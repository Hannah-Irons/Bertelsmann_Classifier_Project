{
 "cells": [
  {
   "cell_type": "markdown",
   "metadata": {},
   "source": [
    "# 2_Supervised_learing_model\n",
    "\n",
    "Using the PCA anaysis to cut down the number of features to model, so the project would have the potential to model per cluster and decide whether a certian demographic would respond better to a mailout campaign."
   ]
  },
  {
   "cell_type": "code",
   "execution_count": 22,
   "metadata": {},
   "outputs": [],
   "source": [
    "import pandas as pd\n",
    "import os\n",
    "import numpy as np\n",
    "import json\n",
    "import imblearn\n",
    "from imblearn.over_sampling import SMOTE \n",
    "from sklearn.model_selection import train_test_split\n",
    "from sklearn.metrics import log_loss\n",
    "from sklearn.calibration import calibration_curve\n",
    "from sklearn.model_selection import GridSearchCV \n",
    "from sklearn.model_selection import ParameterGrid \n",
    "from xgboost import XGBClassifier\n",
    "import matplotlib.pyplot as plt\n",
    "import pickle\n",
    "import time\n",
    "\n",
    "import PCA_functions\n",
    "import Modeling_functions"
   ]
  },
  {
   "cell_type": "code",
   "execution_count": 3,
   "metadata": {},
   "outputs": [],
   "source": [
    "mailout_train_clean = PCA_functions.load_clean('mailout_train_clean')"
   ]
  },
  {
   "cell_type": "code",
   "execution_count": 5,
   "metadata": {},
   "outputs": [],
   "source": [
    "cluster_centers_df = pd.read_csv('data/cluster_centers_df.csv')"
   ]
  },
  {
   "cell_type": "code",
   "execution_count": 8,
   "metadata": {},
   "outputs": [],
   "source": [
    "cols = list(cluster_centers_df.columns)\n",
    "cols.remove('HH_DELTA_FLAG')\n",
    "cols.remove('Unnamed: 0')\n",
    "cols.append('RESPONSE')"
   ]
  },
  {
   "cell_type": "code",
   "execution_count": 9,
   "metadata": {},
   "outputs": [],
   "source": [
    "mailout_train_clean = mailout_train_clean[cols]"
   ]
  },
  {
   "cell_type": "code",
   "execution_count": 10,
   "metadata": {},
   "outputs": [
    {
     "data": {
      "text/plain": [
       "1.2414757824794544"
      ]
     },
     "execution_count": 10,
     "metadata": {},
     "output_type": "execute_result"
    }
   ],
   "source": [
    "mailout_train_clean.RESPONSE.sum()/mailout_train_clean.shape[0]*100"
   ]
  },
  {
   "cell_type": "markdown",
   "metadata": {},
   "source": [
    "1.24% conversion rate\n",
    "- class bias\n",
    "- using SMOTE from imblearn"
   ]
  },
  {
   "cell_type": "code",
   "execution_count": 13,
   "metadata": {},
   "outputs": [],
   "source": [
    "param_grid = {'learning_rate' : [0.01, 0.05, 0.10, 0.15, 0.20, 0.25],\n",
    "                'max_depth': [1,2,3,4,5,6,7],\n",
    "                'min_child_weight': [2,3,4,5,6],\n",
    "                'colsample_bytree': [0.60,0.65, 0.70, 0.75, 0.80, 0.85, 0.90],\n",
    "                'gamma': [0, 0.1, 0.2, 0.4]\n",
    "                }\n",
    "\n",
    "cv_folds = 2"
   ]
  },
  {
   "cell_type": "code",
   "execution_count": 14,
   "metadata": {},
   "outputs": [],
   "source": [
    "class_tech = XGBClassifier() # XGBClassifier by default\n",
    "\n",
    "class_tech_sc = GridSearchCV(estimator = class_tech, \n",
    "                        param_grid = param_grid, \n",
    "                        cv = cv_folds, \n",
    "                        return_train_score = True, \n",
    "                        n_jobs=-1, \n",
    "                        scoring='neg_log_loss', \n",
    "                        verbose=10)"
   ]
  },
  {
   "cell_type": "code",
   "execution_count": 21,
   "metadata": {},
   "outputs": [],
   "source": [
    "df_X, df_y, validate_set, y_validate = Modeling_functions.data_prep(mailout_train_clean, cols, 'RESPONSE', SMOTE_value=0.5 )\n"
   ]
  },
  {
   "cell_type": "code",
   "execution_count": null,
   "metadata": {},
   "outputs": [],
   "source": [
    "# start = time.time()\n",
    "\n",
    "# best_class_tech_sc = Modeling_functions.model_fit(class_tech_sc, df_X, df_y)\n",
    "\n",
    "# end = time.time()\n",
    "# print(end - start)"
   ]
  },
  {
   "cell_type": "markdown",
   "metadata": {},
   "source": [
    "Fitting 2 folds for each of 5880 candidates, totalling 11760 fits\n",
    "228863.65746665\n",
    "The model gets saved and it took 2days and 16hr so I'm not running it again at a clean up stage."
   ]
  },
  {
   "cell_type": "code",
   "execution_count": 23,
   "metadata": {},
   "outputs": [],
   "source": [
    "best_class_tech_sc = pickle.load(open('Results/XGBoost_test_1.pkl', 'rb'))"
   ]
  },
  {
   "cell_type": "code",
   "execution_count": 24,
   "metadata": {},
   "outputs": [
    {
     "name": "stderr",
     "output_type": "stream",
     "text": [
      "c:\\Users\\Hannah\\AppData\\Local\\Programs\\Python\\Python310\\lib\\site-packages\\sklearn\\calibration.py:964: FutureWarning: The normalize argument is deprecated in v1.1 and will be removed in v1.3. Explicitly normalizing y_prob will reproduce this behavior, but it is recommended that a proper probability is used (i.e. a classifier's `predict_proba` positive class or `decision_function` output calibrated with `CalibratedClassifierCV`).\n",
      "  warnings.warn(\n"
     ]
    },
    {
     "name": "stdout",
     "output_type": "stream",
     "text": [
      "graphic saved\n",
      "results file created\n",
      "model pickled\n"
     ]
    },
    {
     "data": {
      "image/png": "[encoded data removed]",
      "text/plain": [
       "<Figure size 432x288 with 1 Axes>"
      ]
     },
     "metadata": {
      "needs_background": "light"
     },
     "output_type": "display_data"
    }
   ],
   "source": [
    "Modeling_functions.graphic_reliability(validate_set, best_class_tech_sc, y_validate, 'XGBoost_test_1')\n",
    "Modeling_functions.results_to_text(best_class_tech_sc, validate_set, y_validate, df_X, param_grid, 'XGBoost_test_1')\n",
    "Modeling_functions.save_model(best_class_tech_sc, 'XGBoost_test_1')"
   ]
  },
  {
   "cell_type": "markdown",
   "metadata": {},
   "source": [
    "The max mean train score is -0.0021508678072083977.\n",
    "\n",
    "The max mean test score is -0.02951969465658931.\n",
    "\n",
    "The model predicted neg log loss on TEST is -0.02451040293835604."
   ]
  },
  {
   "cell_type": "code",
   "execution_count": null,
   "metadata": {},
   "outputs": [],
   "source": []
  }
 ],
 "metadata": {
  "kernelspec": {
   "display_name": "Python 3.10.4 64-bit",
   "language": "python",
   "name": "python3"
  },
  "language_info": {
   "codemirror_mode": {
    "name": "ipython",
    "version": 3
   },
   "file_extension": ".py",
   "mimetype": "text/x-python",
   "name": "python",
   "nbconvert_exporter": "python",
   "pygments_lexer": "ipython3",
   "version": "3.10.4"
  },
  "orig_nbformat": 4,
  "vscode": {
   "interpreter": {
    "hash": "b681030e630a14bb10dd041dbf7395aa296cf42f5dce9d31bae9e4d0d30cfd9b"
   }
  }
 },
 "nbformat": 4,
 "nbformat_minor": 2
}
