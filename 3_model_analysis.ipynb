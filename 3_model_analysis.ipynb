{
 "cells": [
  {
   "cell_type": "markdown",
   "metadata": {},
   "source": [
    "# 3_Model_analysis\n",
    "load in pickle model and run some tests best_class_tech_sc\n",
    "and load in the data -mailout_train_clean"
   ]
  },
  {
   "cell_type": "code",
   "execution_count": 80,
   "metadata": {},
   "outputs": [],
   "source": [
    "import pickle\n",
    "import pandas as pd\n",
    "import numpy as np\n",
    "import PCA_functions\n",
    "import Cleaning_functions\n",
    "import Modeling_functions\n",
    "import matplotlib.pyplot as plt"
   ]
  },
  {
   "cell_type": "code",
   "execution_count": 2,
   "metadata": {},
   "outputs": [],
   "source": [
    "best_class_tech_sc = pickle.load(open('Results/XGBoost_test_1.pkl', 'rb'))"
   ]
  },
  {
   "cell_type": "code",
   "execution_count": 5,
   "metadata": {},
   "outputs": [],
   "source": [
    "mailout_train_clean = PCA_functions.load_clean('mailout_train_clean')"
   ]
  },
  {
   "cell_type": "code",
   "execution_count": 8,
   "metadata": {},
   "outputs": [],
   "source": [
    "def sum_diff(df, col):\n",
    "    df_sum = pd.DataFrame(columns = [col + '_count', '%'])\n",
    "    df_sum[col + '_count'] = df.groupby([col]).size()\n",
    "    df_sum['%'] = df.groupby([col]).size()/len(df)*100\n",
    "    return df_sum"
   ]
  },
  {
   "cell_type": "code",
   "execution_count": 9,
   "metadata": {},
   "outputs": [
    {
     "data": {
      "text/html": [
       "<div>\n",
       "<style scoped>\n",
       "    .dataframe tbody tr th:only-of-type {\n",
       "        vertical-align: middle;\n",
       "    }\n",
       "\n",
       "    .dataframe tbody tr th {\n",
       "        vertical-align: top;\n",
       "    }\n",
       "\n",
       "    .dataframe thead th {\n",
       "        text-align: right;\n",
       "    }\n",
       "</style>\n",
       "<table border=\"1\" class=\"dataframe\">\n",
       "  <thead>\n",
       "    <tr style=\"text-align: right;\">\n",
       "      <th></th>\n",
       "      <th>RESPONSE_count</th>\n",
       "      <th>%</th>\n",
       "    </tr>\n",
       "    <tr>\n",
       "      <th>RESPONSE</th>\n",
       "      <th></th>\n",
       "      <th></th>\n",
       "    </tr>\n",
       "  </thead>\n",
       "  <tbody>\n",
       "    <tr>\n",
       "      <th>0.0</th>\n",
       "      <td>33888</td>\n",
       "      <td>98.758524</td>\n",
       "    </tr>\n",
       "    <tr>\n",
       "      <th>1.0</th>\n",
       "      <td>426</td>\n",
       "      <td>1.241476</td>\n",
       "    </tr>\n",
       "  </tbody>\n",
       "</table>\n",
       "</div>"
      ],
      "text/plain": [
       "          RESPONSE_count          %\n",
       "RESPONSE                           \n",
       "0.0                33888  98.758524\n",
       "1.0                  426   1.241476"
      ]
     },
     "execution_count": 9,
     "metadata": {},
     "output_type": "execute_result"
    }
   ],
   "source": [
    "sum_diff(mailout_train_clean, 'RESPONSE')"
   ]
  },
  {
   "cell_type": "code",
   "execution_count": 10,
   "metadata": {},
   "outputs": [
    {
     "data": {
      "text/html": [
       "<div>\n",
       "<style scoped>\n",
       "    .dataframe tbody tr th:only-of-type {\n",
       "        vertical-align: middle;\n",
       "    }\n",
       "\n",
       "    .dataframe tbody tr th {\n",
       "        vertical-align: top;\n",
       "    }\n",
       "\n",
       "    .dataframe thead th {\n",
       "        text-align: right;\n",
       "    }\n",
       "</style>\n",
       "<table border=\"1\" class=\"dataframe\">\n",
       "  <thead>\n",
       "    <tr style=\"text-align: right;\">\n",
       "      <th></th>\n",
       "      <th>D19_SOZIALES_count</th>\n",
       "      <th>%</th>\n",
       "    </tr>\n",
       "    <tr>\n",
       "      <th>D19_SOZIALES</th>\n",
       "      <th></th>\n",
       "      <th></th>\n",
       "    </tr>\n",
       "  </thead>\n",
       "  <tbody>\n",
       "    <tr>\n",
       "      <th>0.0</th>\n",
       "      <td>9056</td>\n",
       "      <td>26.391560</td>\n",
       "    </tr>\n",
       "    <tr>\n",
       "      <th>1.0</th>\n",
       "      <td>11178</td>\n",
       "      <td>32.575625</td>\n",
       "    </tr>\n",
       "    <tr>\n",
       "      <th>2.0</th>\n",
       "      <td>1430</td>\n",
       "      <td>4.167395</td>\n",
       "    </tr>\n",
       "    <tr>\n",
       "      <th>3.0</th>\n",
       "      <td>8199</td>\n",
       "      <td>23.894037</td>\n",
       "    </tr>\n",
       "    <tr>\n",
       "      <th>4.0</th>\n",
       "      <td>3059</td>\n",
       "      <td>8.914729</td>\n",
       "    </tr>\n",
       "    <tr>\n",
       "      <th>5.0</th>\n",
       "      <td>1392</td>\n",
       "      <td>4.056653</td>\n",
       "    </tr>\n",
       "  </tbody>\n",
       "</table>\n",
       "</div>"
      ],
      "text/plain": [
       "              D19_SOZIALES_count          %\n",
       "D19_SOZIALES                               \n",
       "0.0                         9056  26.391560\n",
       "1.0                        11178  32.575625\n",
       "2.0                         1430   4.167395\n",
       "3.0                         8199  23.894037\n",
       "4.0                         3059   8.914729\n",
       "5.0                         1392   4.056653"
      ]
     },
     "execution_count": 10,
     "metadata": {},
     "output_type": "execute_result"
    }
   ],
   "source": [
    "sum_diff(mailout_train_clean, 'D19_SOZIALES')"
   ]
  },
  {
   "cell_type": "code",
   "execution_count": 11,
   "metadata": {},
   "outputs": [],
   "source": [
    "accepts = mailout_train_clean.loc[mailout_train_clean['RESPONSE'] == 1.0]"
   ]
  },
  {
   "cell_type": "code",
   "execution_count": 12,
   "metadata": {},
   "outputs": [
    {
     "data": {
      "text/plain": [
       "(426, 398)"
      ]
     },
     "execution_count": 12,
     "metadata": {},
     "output_type": "execute_result"
    }
   ],
   "source": [
    "accepts.shape"
   ]
  },
  {
   "cell_type": "code",
   "execution_count": 14,
   "metadata": {},
   "outputs": [
    {
     "data": {
      "text/html": [
       "<div>\n",
       "<style scoped>\n",
       "    .dataframe tbody tr th:only-of-type {\n",
       "        vertical-align: middle;\n",
       "    }\n",
       "\n",
       "    .dataframe tbody tr th {\n",
       "        vertical-align: top;\n",
       "    }\n",
       "\n",
       "    .dataframe thead th {\n",
       "        text-align: right;\n",
       "    }\n",
       "</style>\n",
       "<table border=\"1\" class=\"dataframe\">\n",
       "  <thead>\n",
       "    <tr style=\"text-align: right;\">\n",
       "      <th></th>\n",
       "      <th>D19_SOZIALES_count</th>\n",
       "      <th>%</th>\n",
       "    </tr>\n",
       "    <tr>\n",
       "      <th>D19_SOZIALES</th>\n",
       "      <th></th>\n",
       "      <th></th>\n",
       "    </tr>\n",
       "  </thead>\n",
       "  <tbody>\n",
       "    <tr>\n",
       "      <th>0.0</th>\n",
       "      <td>24</td>\n",
       "      <td>5.633803</td>\n",
       "    </tr>\n",
       "    <tr>\n",
       "      <th>1.0</th>\n",
       "      <td>359</td>\n",
       "      <td>84.272300</td>\n",
       "    </tr>\n",
       "    <tr>\n",
       "      <th>2.0</th>\n",
       "      <td>8</td>\n",
       "      <td>1.877934</td>\n",
       "    </tr>\n",
       "    <tr>\n",
       "      <th>3.0</th>\n",
       "      <td>21</td>\n",
       "      <td>4.929577</td>\n",
       "    </tr>\n",
       "    <tr>\n",
       "      <th>4.0</th>\n",
       "      <td>12</td>\n",
       "      <td>2.816901</td>\n",
       "    </tr>\n",
       "    <tr>\n",
       "      <th>5.0</th>\n",
       "      <td>2</td>\n",
       "      <td>0.469484</td>\n",
       "    </tr>\n",
       "  </tbody>\n",
       "</table>\n",
       "</div>"
      ],
      "text/plain": [
       "              D19_SOZIALES_count          %\n",
       "D19_SOZIALES                               \n",
       "0.0                           24   5.633803\n",
       "1.0                          359  84.272300\n",
       "2.0                            8   1.877934\n",
       "3.0                           21   4.929577\n",
       "4.0                           12   2.816901\n",
       "5.0                            2   0.469484"
      ]
     },
     "execution_count": 14,
     "metadata": {},
     "output_type": "execute_result"
    }
   ],
   "source": [
    "sum_diff(accepts, 'D19_SOZIALES')"
   ]
  },
  {
   "cell_type": "markdown",
   "metadata": {},
   "source": [
    "That is a heavy bias in acceptance rate by D19_SOZIALES == 1.0\n",
    "\n",
    "Witout knowing what this factor is, it's abviously some kind of social grouping. It could be a delicate one to use depending on how it's created and how it describes affluence or potentially economically vunarble social groups. This also need to be considered on what type of mailout campaign it is - if it's just advertisement and doesn't impact product price then it's safe to use"
   ]
  },
  {
   "cell_type": "markdown",
   "metadata": {},
   "source": [
    "lets clean up the geniune Test data and run predictions"
   ]
  },
  {
   "cell_type": "code",
   "execution_count": 19,
   "metadata": {},
   "outputs": [
    {
     "name": "stderr",
     "output_type": "stream",
     "text": [
      "C:\\Users\\Hannah\\AppData\\Local\\Temp\\ipykernel_14992\\4118961090.py:1: DtypeWarning: Columns (18,19) have mixed types. Specify dtype option on import or set low_memory=False.\n",
      "  mailout_test = pd.read_csv('data/Udacity_MAILOUT_052018_TEST.csv', sep=';')\n"
     ]
    }
   ],
   "source": [
    "mailout_test = pd.read_csv('data/Udacity_MAILOUT_052018_TEST.csv', sep=';')"
   ]
  },
  {
   "cell_type": "code",
   "execution_count": 21,
   "metadata": {},
   "outputs": [
    {
     "data": {
      "text/html": [
       "<div>\n",
       "<style scoped>\n",
       "    .dataframe tbody tr th:only-of-type {\n",
       "        vertical-align: middle;\n",
       "    }\n",
       "\n",
       "    .dataframe tbody tr th {\n",
       "        vertical-align: top;\n",
       "    }\n",
       "\n",
       "    .dataframe thead th {\n",
       "        text-align: right;\n",
       "    }\n",
       "</style>\n",
       "<table border=\"1\" class=\"dataframe\">\n",
       "  <thead>\n",
       "    <tr style=\"text-align: right;\">\n",
       "      <th></th>\n",
       "      <th>LNR</th>\n",
       "      <th>AGER_TYP</th>\n",
       "      <th>AKT_DAT_KL</th>\n",
       "      <th>ALTER_HH</th>\n",
       "      <th>ALTER_KIND1</th>\n",
       "      <th>ALTER_KIND2</th>\n",
       "      <th>ALTER_KIND3</th>\n",
       "      <th>ALTER_KIND4</th>\n",
       "      <th>ALTERSKATEGORIE_FEIN</th>\n",
       "      <th>ANZ_HAUSHALTE_AKTIV</th>\n",
       "      <th>...</th>\n",
       "      <th>VHN</th>\n",
       "      <th>VK_DHT4A</th>\n",
       "      <th>VK_DISTANZ</th>\n",
       "      <th>VK_ZG11</th>\n",
       "      <th>W_KEIT_KIND_HH</th>\n",
       "      <th>WOHNDAUER_2008</th>\n",
       "      <th>WOHNLAGE</th>\n",
       "      <th>ZABEOTYP</th>\n",
       "      <th>ANREDE_KZ</th>\n",
       "      <th>ALTERSKATEGORIE_GROB</th>\n",
       "    </tr>\n",
       "  </thead>\n",
       "  <tbody>\n",
       "    <tr>\n",
       "      <th>0</th>\n",
       "      <td>1754</td>\n",
       "      <td>2</td>\n",
       "      <td>1.0</td>\n",
       "      <td>7.0</td>\n",
       "      <td>NaN</td>\n",
       "      <td>NaN</td>\n",
       "      <td>NaN</td>\n",
       "      <td>NaN</td>\n",
       "      <td>6.0</td>\n",
       "      <td>2.0</td>\n",
       "      <td>...</td>\n",
       "      <td>4.0</td>\n",
       "      <td>5.0</td>\n",
       "      <td>6.0</td>\n",
       "      <td>3.0</td>\n",
       "      <td>6.0</td>\n",
       "      <td>9.0</td>\n",
       "      <td>3.0</td>\n",
       "      <td>3</td>\n",
       "      <td>1</td>\n",
       "      <td>4</td>\n",
       "    </tr>\n",
       "    <tr>\n",
       "      <th>1</th>\n",
       "      <td>1770</td>\n",
       "      <td>-1</td>\n",
       "      <td>1.0</td>\n",
       "      <td>0.0</td>\n",
       "      <td>NaN</td>\n",
       "      <td>NaN</td>\n",
       "      <td>NaN</td>\n",
       "      <td>NaN</td>\n",
       "      <td>0.0</td>\n",
       "      <td>20.0</td>\n",
       "      <td>...</td>\n",
       "      <td>1.0</td>\n",
       "      <td>5.0</td>\n",
       "      <td>2.0</td>\n",
       "      <td>1.0</td>\n",
       "      <td>6.0</td>\n",
       "      <td>9.0</td>\n",
       "      <td>5.0</td>\n",
       "      <td>3</td>\n",
       "      <td>1</td>\n",
       "      <td>4</td>\n",
       "    </tr>\n",
       "    <tr>\n",
       "      <th>2</th>\n",
       "      <td>1465</td>\n",
       "      <td>2</td>\n",
       "      <td>9.0</td>\n",
       "      <td>16.0</td>\n",
       "      <td>NaN</td>\n",
       "      <td>NaN</td>\n",
       "      <td>NaN</td>\n",
       "      <td>NaN</td>\n",
       "      <td>11.0</td>\n",
       "      <td>2.0</td>\n",
       "      <td>...</td>\n",
       "      <td>3.0</td>\n",
       "      <td>9.0</td>\n",
       "      <td>6.0</td>\n",
       "      <td>3.0</td>\n",
       "      <td>2.0</td>\n",
       "      <td>9.0</td>\n",
       "      <td>4.0</td>\n",
       "      <td>3</td>\n",
       "      <td>2</td>\n",
       "      <td>4</td>\n",
       "    </tr>\n",
       "    <tr>\n",
       "      <th>3</th>\n",
       "      <td>1470</td>\n",
       "      <td>-1</td>\n",
       "      <td>7.0</td>\n",
       "      <td>0.0</td>\n",
       "      <td>NaN</td>\n",
       "      <td>NaN</td>\n",
       "      <td>NaN</td>\n",
       "      <td>NaN</td>\n",
       "      <td>0.0</td>\n",
       "      <td>1.0</td>\n",
       "      <td>...</td>\n",
       "      <td>2.0</td>\n",
       "      <td>6.0</td>\n",
       "      <td>6.0</td>\n",
       "      <td>3.0</td>\n",
       "      <td>NaN</td>\n",
       "      <td>9.0</td>\n",
       "      <td>2.0</td>\n",
       "      <td>3</td>\n",
       "      <td>2</td>\n",
       "      <td>4</td>\n",
       "    </tr>\n",
       "    <tr>\n",
       "      <th>4</th>\n",
       "      <td>1478</td>\n",
       "      <td>1</td>\n",
       "      <td>1.0</td>\n",
       "      <td>21.0</td>\n",
       "      <td>NaN</td>\n",
       "      <td>NaN</td>\n",
       "      <td>NaN</td>\n",
       "      <td>NaN</td>\n",
       "      <td>13.0</td>\n",
       "      <td>1.0</td>\n",
       "      <td>...</td>\n",
       "      <td>1.0</td>\n",
       "      <td>2.0</td>\n",
       "      <td>4.0</td>\n",
       "      <td>3.0</td>\n",
       "      <td>3.0</td>\n",
       "      <td>9.0</td>\n",
       "      <td>7.0</td>\n",
       "      <td>4</td>\n",
       "      <td>2</td>\n",
       "      <td>4</td>\n",
       "    </tr>\n",
       "  </tbody>\n",
       "</table>\n",
       "<p>5 rows × 366 columns</p>\n",
       "</div>"
      ],
      "text/plain": [
       "    LNR  AGER_TYP  AKT_DAT_KL  ALTER_HH  ALTER_KIND1  ALTER_KIND2  \\\n",
       "0  1754         2         1.0       7.0          NaN          NaN   \n",
       "1  1770        -1         1.0       0.0          NaN          NaN   \n",
       "2  1465         2         9.0      16.0          NaN          NaN   \n",
       "3  1470        -1         7.0       0.0          NaN          NaN   \n",
       "4  1478         1         1.0      21.0          NaN          NaN   \n",
       "\n",
       "   ALTER_KIND3  ALTER_KIND4  ALTERSKATEGORIE_FEIN  ANZ_HAUSHALTE_AKTIV  ...  \\\n",
       "0          NaN          NaN                   6.0                  2.0  ...   \n",
       "1          NaN          NaN                   0.0                 20.0  ...   \n",
       "2          NaN          NaN                  11.0                  2.0  ...   \n",
       "3          NaN          NaN                   0.0                  1.0  ...   \n",
       "4          NaN          NaN                  13.0                  1.0  ...   \n",
       "\n",
       "   VHN  VK_DHT4A  VK_DISTANZ  VK_ZG11  W_KEIT_KIND_HH  WOHNDAUER_2008  \\\n",
       "0  4.0       5.0         6.0      3.0             6.0             9.0   \n",
       "1  1.0       5.0         2.0      1.0             6.0             9.0   \n",
       "2  3.0       9.0         6.0      3.0             2.0             9.0   \n",
       "3  2.0       6.0         6.0      3.0             NaN             9.0   \n",
       "4  1.0       2.0         4.0      3.0             3.0             9.0   \n",
       "\n",
       "   WOHNLAGE ZABEOTYP ANREDE_KZ ALTERSKATEGORIE_GROB  \n",
       "0       3.0        3         1                    4  \n",
       "1       5.0        3         1                    4  \n",
       "2       4.0        3         2                    4  \n",
       "3       2.0        3         2                    4  \n",
       "4       7.0        4         2                    4  \n",
       "\n",
       "[5 rows x 366 columns]"
      ]
     },
     "execution_count": 21,
     "metadata": {},
     "output_type": "execute_result"
    }
   ],
   "source": [
    "mailout_test.head()"
   ]
  },
  {
   "cell_type": "code",
   "execution_count": 22,
   "metadata": {},
   "outputs": [],
   "source": [
    "mailout_test = Cleaning_functions.collate_unknown(mailout_test)\n",
    "NaN_sum = Cleaning_functions.display_NaN(mailout_test)"
   ]
  },
  {
   "cell_type": "code",
   "execution_count": 24,
   "metadata": {},
   "outputs": [
    {
     "data": {
      "text/html": [
       "<div>\n",
       "<style scoped>\n",
       "    .dataframe tbody tr th:only-of-type {\n",
       "        vertical-align: middle;\n",
       "    }\n",
       "\n",
       "    .dataframe tbody tr th {\n",
       "        vertical-align: top;\n",
       "    }\n",
       "\n",
       "    .dataframe thead th {\n",
       "        text-align: right;\n",
       "    }\n",
       "</style>\n",
       "<table border=\"1\" class=\"dataframe\">\n",
       "  <thead>\n",
       "    <tr style=\"text-align: right;\">\n",
       "      <th></th>\n",
       "      <th>NaN sum</th>\n",
       "      <th>NaN %</th>\n",
       "    </tr>\n",
       "  </thead>\n",
       "  <tbody>\n",
       "    <tr>\n",
       "      <th>ALTER_KIND4</th>\n",
       "      <td>42794</td>\n",
       "      <td>99.908949</td>\n",
       "    </tr>\n",
       "    <tr>\n",
       "      <th>ALTER_KIND3</th>\n",
       "      <td>42632</td>\n",
       "      <td>99.530736</td>\n",
       "    </tr>\n",
       "    <tr>\n",
       "      <th>ALTER_KIND2</th>\n",
       "      <td>42071</td>\n",
       "      <td>98.220998</td>\n",
       "    </tr>\n",
       "    <tr>\n",
       "      <th>ALTER_KIND1</th>\n",
       "      <td>40820</td>\n",
       "      <td>95.300353</td>\n",
       "    </tr>\n",
       "    <tr>\n",
       "      <th>KK_KUNDENTYP</th>\n",
       "      <td>25035</td>\n",
       "      <td>58.447926</td>\n",
       "    </tr>\n",
       "    <tr>\n",
       "      <th>EXTSEL992</th>\n",
       "      <td>15809</td>\n",
       "      <td>36.908458</td>\n",
       "    </tr>\n",
       "    <tr>\n",
       "      <th>HH_DELTA_FLAG</th>\n",
       "      <td>9619</td>\n",
       "      <td>22.456984</td>\n",
       "    </tr>\n",
       "    <tr>\n",
       "      <th>W_KEIT_KIND_HH</th>\n",
       "      <td>9619</td>\n",
       "      <td>22.456984</td>\n",
       "    </tr>\n",
       "    <tr>\n",
       "      <th>KBA05_HERST4</th>\n",
       "      <td>8537</td>\n",
       "      <td>19.930894</td>\n",
       "    </tr>\n",
       "    <tr>\n",
       "      <th>KBA05_FRAU</th>\n",
       "      <td>8537</td>\n",
       "      <td>19.930894</td>\n",
       "    </tr>\n",
       "  </tbody>\n",
       "</table>\n",
       "</div>"
      ],
      "text/plain": [
       "                NaN sum      NaN %\n",
       "ALTER_KIND4       42794  99.908949\n",
       "ALTER_KIND3       42632  99.530736\n",
       "ALTER_KIND2       42071  98.220998\n",
       "ALTER_KIND1       40820  95.300353\n",
       "KK_KUNDENTYP      25035  58.447926\n",
       "EXTSEL992         15809  36.908458\n",
       "HH_DELTA_FLAG      9619  22.456984\n",
       "W_KEIT_KIND_HH     9619  22.456984\n",
       "KBA05_HERST4       8537  19.930894\n",
       "KBA05_FRAU         8537  19.930894"
      ]
     },
     "execution_count": 24,
     "metadata": {},
     "output_type": "execute_result"
    }
   ],
   "source": [
    "NaN_sum.head(10)"
   ]
  },
  {
   "cell_type": "code",
   "execution_count": 29,
   "metadata": {},
   "outputs": [],
   "source": [
    "cols_to_drop = ['D19_LETZTER_KAUF_BRANCHE', 'EINGEFUEGT_AM', 'OST_WEST_KZ', 'ALTER_KIND4', 'ALTER_KIND3', 'ALTER_KIND2', 'ALTER_KIND1', 'EXTSEL992', 'KK_KUNDENTYP', 'HH_DELTA_FLAG', 'W_KEIT_KIND_HH']\n",
    "mailout_test = Cleaning_functions.column_dropper(mailout_test, cols_to_drop)"
   ]
  },
  {
   "cell_type": "code",
   "execution_count": 30,
   "metadata": {},
   "outputs": [
    {
     "data": {
      "text/html": [
       "<div>\n",
       "<style scoped>\n",
       "    .dataframe tbody tr th:only-of-type {\n",
       "        vertical-align: middle;\n",
       "    }\n",
       "\n",
       "    .dataframe tbody tr th {\n",
       "        vertical-align: top;\n",
       "    }\n",
       "\n",
       "    .dataframe thead th {\n",
       "        text-align: right;\n",
       "    }\n",
       "</style>\n",
       "<table border=\"1\" class=\"dataframe\">\n",
       "  <thead>\n",
       "    <tr style=\"text-align: right;\">\n",
       "      <th></th>\n",
       "      <th>NaN sum</th>\n",
       "      <th>NaN %</th>\n",
       "    </tr>\n",
       "  </thead>\n",
       "  <tbody>\n",
       "    <tr>\n",
       "      <th>KBA05_KRSVAN</th>\n",
       "      <td>8537</td>\n",
       "      <td>19.930894</td>\n",
       "    </tr>\n",
       "    <tr>\n",
       "      <th>KBA05_KRSHERST1</th>\n",
       "      <td>8537</td>\n",
       "      <td>19.930894</td>\n",
       "    </tr>\n",
       "    <tr>\n",
       "      <th>KBA05_GBZ</th>\n",
       "      <td>8537</td>\n",
       "      <td>19.930894</td>\n",
       "    </tr>\n",
       "    <tr>\n",
       "      <th>KBA05_HERST1</th>\n",
       "      <td>8537</td>\n",
       "      <td>19.930894</td>\n",
       "    </tr>\n",
       "    <tr>\n",
       "      <th>KBA05_HERST2</th>\n",
       "      <td>8537</td>\n",
       "      <td>19.930894</td>\n",
       "    </tr>\n",
       "    <tr>\n",
       "      <th>...</th>\n",
       "      <td>...</td>\n",
       "      <td>...</td>\n",
       "    </tr>\n",
       "    <tr>\n",
       "      <th>D19_VERSAND_ANZ_24</th>\n",
       "      <td>0</td>\n",
       "      <td>0.000000</td>\n",
       "    </tr>\n",
       "    <tr>\n",
       "      <th>D19_VERSAND_DATUM</th>\n",
       "      <td>0</td>\n",
       "      <td>0.000000</td>\n",
       "    </tr>\n",
       "    <tr>\n",
       "      <th>D19_VERSAND_OFFLINE_DATUM</th>\n",
       "      <td>0</td>\n",
       "      <td>0.000000</td>\n",
       "    </tr>\n",
       "    <tr>\n",
       "      <th>D19_VERSAND_ONLINE_DATUM</th>\n",
       "      <td>0</td>\n",
       "      <td>0.000000</td>\n",
       "    </tr>\n",
       "    <tr>\n",
       "      <th>ALTERSKATEGORIE_GROB</th>\n",
       "      <td>0</td>\n",
       "      <td>0.000000</td>\n",
       "    </tr>\n",
       "  </tbody>\n",
       "</table>\n",
       "<p>355 rows × 2 columns</p>\n",
       "</div>"
      ],
      "text/plain": [
       "                           NaN sum      NaN %\n",
       "KBA05_KRSVAN                  8537  19.930894\n",
       "KBA05_KRSHERST1               8537  19.930894\n",
       "KBA05_GBZ                     8537  19.930894\n",
       "KBA05_HERST1                  8537  19.930894\n",
       "KBA05_HERST2                  8537  19.930894\n",
       "...                            ...        ...\n",
       "D19_VERSAND_ANZ_24               0   0.000000\n",
       "D19_VERSAND_DATUM                0   0.000000\n",
       "D19_VERSAND_OFFLINE_DATUM        0   0.000000\n",
       "D19_VERSAND_ONLINE_DATUM         0   0.000000\n",
       "ALTERSKATEGORIE_GROB             0   0.000000\n",
       "\n",
       "[355 rows x 2 columns]"
      ]
     },
     "execution_count": 30,
     "metadata": {},
     "output_type": "execute_result"
    }
   ],
   "source": [
    "NaN_sum = Cleaning_functions.display_NaN(mailout_test)\n",
    "NaN_sum"
   ]
  },
  {
   "cell_type": "code",
   "execution_count": 31,
   "metadata": {},
   "outputs": [],
   "source": [
    "mailout_test_drop = Cleaning_functions.row_dropper(mailout_test, 'KBA05_KW1')"
   ]
  },
  {
   "cell_type": "code",
   "execution_count": 32,
   "metadata": {},
   "outputs": [
    {
     "data": {
      "text/html": [
       "<div>\n",
       "<style scoped>\n",
       "    .dataframe tbody tr th:only-of-type {\n",
       "        vertical-align: middle;\n",
       "    }\n",
       "\n",
       "    .dataframe tbody tr th {\n",
       "        vertical-align: top;\n",
       "    }\n",
       "\n",
       "    .dataframe thead th {\n",
       "        text-align: right;\n",
       "    }\n",
       "</style>\n",
       "<table border=\"1\" class=\"dataframe\">\n",
       "  <thead>\n",
       "    <tr style=\"text-align: right;\">\n",
       "      <th></th>\n",
       "      <th>NaN sum</th>\n",
       "      <th>NaN %</th>\n",
       "    </tr>\n",
       "  </thead>\n",
       "  <tbody>\n",
       "    <tr>\n",
       "      <th>ALTERSKATEGORIE_FEIN</th>\n",
       "      <td>1108</td>\n",
       "      <td>3.230697</td>\n",
       "    </tr>\n",
       "    <tr>\n",
       "      <th>D19_VERSI_ONLINE_QUOTE_12</th>\n",
       "      <td>591</td>\n",
       "      <td>1.723233</td>\n",
       "    </tr>\n",
       "    <tr>\n",
       "      <th>D19_GESAMT_ONLINE_QUOTE_12</th>\n",
       "      <td>591</td>\n",
       "      <td>1.723233</td>\n",
       "    </tr>\n",
       "    <tr>\n",
       "      <th>D19_VERSAND_ONLINE_QUOTE_12</th>\n",
       "      <td>591</td>\n",
       "      <td>1.723233</td>\n",
       "    </tr>\n",
       "    <tr>\n",
       "      <th>D19_KONSUMTYP</th>\n",
       "      <td>591</td>\n",
       "      <td>1.723233</td>\n",
       "    </tr>\n",
       "    <tr>\n",
       "      <th>D19_TELKO_ONLINE_QUOTE_12</th>\n",
       "      <td>591</td>\n",
       "      <td>1.723233</td>\n",
       "    </tr>\n",
       "    <tr>\n",
       "      <th>D19_LOTTO</th>\n",
       "      <td>591</td>\n",
       "      <td>1.723233</td>\n",
       "    </tr>\n",
       "    <tr>\n",
       "      <th>D19_BANKEN_ONLINE_QUOTE_12</th>\n",
       "      <td>591</td>\n",
       "      <td>1.723233</td>\n",
       "    </tr>\n",
       "    <tr>\n",
       "      <th>D19_SOZIALES</th>\n",
       "      <td>591</td>\n",
       "      <td>1.723233</td>\n",
       "    </tr>\n",
       "    <tr>\n",
       "      <th>RT_UEBERGROESSE</th>\n",
       "      <td>557</td>\n",
       "      <td>1.624096</td>\n",
       "    </tr>\n",
       "  </tbody>\n",
       "</table>\n",
       "</div>"
      ],
      "text/plain": [
       "                             NaN sum     NaN %\n",
       "ALTERSKATEGORIE_FEIN            1108  3.230697\n",
       "D19_VERSI_ONLINE_QUOTE_12        591  1.723233\n",
       "D19_GESAMT_ONLINE_QUOTE_12       591  1.723233\n",
       "D19_VERSAND_ONLINE_QUOTE_12      591  1.723233\n",
       "D19_KONSUMTYP                    591  1.723233\n",
       "D19_TELKO_ONLINE_QUOTE_12        591  1.723233\n",
       "D19_LOTTO                        591  1.723233\n",
       "D19_BANKEN_ONLINE_QUOTE_12       591  1.723233\n",
       "D19_SOZIALES                     591  1.723233\n",
       "RT_UEBERGROESSE                  557  1.624096"
      ]
     },
     "execution_count": 32,
     "metadata": {},
     "output_type": "execute_result"
    }
   ],
   "source": [
    "NaN_sum = Cleaning_functions.display_NaN(mailout_test_drop)\n",
    "NaN_sum.head(10)"
   ]
  },
  {
   "cell_type": "code",
   "execution_count": 33,
   "metadata": {},
   "outputs": [],
   "source": [
    "mailout_imputed_test = Cleaning_functions.impute_all_cols(mailout_test_drop, 'most_frequent')"
   ]
  },
  {
   "cell_type": "code",
   "execution_count": 34,
   "metadata": {},
   "outputs": [
    {
     "data": {
      "text/html": [
       "<div>\n",
       "<style scoped>\n",
       "    .dataframe tbody tr th:only-of-type {\n",
       "        vertical-align: middle;\n",
       "    }\n",
       "\n",
       "    .dataframe tbody tr th {\n",
       "        vertical-align: top;\n",
       "    }\n",
       "\n",
       "    .dataframe thead th {\n",
       "        text-align: right;\n",
       "    }\n",
       "</style>\n",
       "<table border=\"1\" class=\"dataframe\">\n",
       "  <thead>\n",
       "    <tr style=\"text-align: right;\">\n",
       "      <th></th>\n",
       "      <th>NaN sum</th>\n",
       "      <th>NaN %</th>\n",
       "    </tr>\n",
       "  </thead>\n",
       "  <tbody>\n",
       "    <tr>\n",
       "      <th>LNR</th>\n",
       "      <td>0</td>\n",
       "      <td>0.0</td>\n",
       "    </tr>\n",
       "    <tr>\n",
       "      <th>KBA13_RENAULT</th>\n",
       "      <td>0</td>\n",
       "      <td>0.0</td>\n",
       "    </tr>\n",
       "    <tr>\n",
       "      <th>KBA13_KRSHERST_BMW_BENZ</th>\n",
       "      <td>0</td>\n",
       "      <td>0.0</td>\n",
       "    </tr>\n",
       "    <tr>\n",
       "      <th>KBA13_KRSHERST_AUDI_VW</th>\n",
       "      <td>0</td>\n",
       "      <td>0.0</td>\n",
       "    </tr>\n",
       "    <tr>\n",
       "      <th>KBA13_KRSAQUOT</th>\n",
       "      <td>0</td>\n",
       "      <td>0.0</td>\n",
       "    </tr>\n",
       "    <tr>\n",
       "      <th>KBA13_KMH_251</th>\n",
       "      <td>0</td>\n",
       "      <td>0.0</td>\n",
       "    </tr>\n",
       "    <tr>\n",
       "      <th>KBA13_KMH_250</th>\n",
       "      <td>0</td>\n",
       "      <td>0.0</td>\n",
       "    </tr>\n",
       "    <tr>\n",
       "      <th>KBA13_KMH_211</th>\n",
       "      <td>0</td>\n",
       "      <td>0.0</td>\n",
       "    </tr>\n",
       "    <tr>\n",
       "      <th>KBA13_KMH_210</th>\n",
       "      <td>0</td>\n",
       "      <td>0.0</td>\n",
       "    </tr>\n",
       "    <tr>\n",
       "      <th>KBA13_KMH_180</th>\n",
       "      <td>0</td>\n",
       "      <td>0.0</td>\n",
       "    </tr>\n",
       "  </tbody>\n",
       "</table>\n",
       "</div>"
      ],
      "text/plain": [
       "                         NaN sum  NaN %\n",
       "LNR                            0    0.0\n",
       "KBA13_RENAULT                  0    0.0\n",
       "KBA13_KRSHERST_BMW_BENZ        0    0.0\n",
       "KBA13_KRSHERST_AUDI_VW         0    0.0\n",
       "KBA13_KRSAQUOT                 0    0.0\n",
       "KBA13_KMH_251                  0    0.0\n",
       "KBA13_KMH_250                  0    0.0\n",
       "KBA13_KMH_211                  0    0.0\n",
       "KBA13_KMH_210                  0    0.0\n",
       "KBA13_KMH_180                  0    0.0"
      ]
     },
     "execution_count": 34,
     "metadata": {},
     "output_type": "execute_result"
    }
   ],
   "source": [
    "NaN_sum = Cleaning_functions.display_NaN(mailout_imputed_test)\n",
    "NaN_sum.head(10)"
   ]
  },
  {
   "cell_type": "code",
   "execution_count": 35,
   "metadata": {},
   "outputs": [
    {
     "data": {
      "text/plain": [
       "(34296, 355)"
      ]
     },
     "execution_count": 35,
     "metadata": {},
     "output_type": "execute_result"
    }
   ],
   "source": [
    "mailout_imputed_test.shape"
   ]
  },
  {
   "cell_type": "code",
   "execution_count": 37,
   "metadata": {},
   "outputs": [],
   "source": [
    "CAMEO_DEU_unique = mailout_imputed_test.CAMEO_DEU_2015.unique()\n",
    "CAMEO_DEU_unique = sorted(CAMEO_DEU_unique)\n",
    "CAMEO_DEU_labels = ['Work_Life_Balance', 'Wealthy_Best_Ager', 'Successful-Songwriter', 'Old_Nobility', 'City_Nobility', 'Cottage_Chic', 'Noble_Jogger', 'Established_gourmet', 'Fine_Management', 'Career_Family', \n",
    "'Powershaopping_Families', 'Rural_Neighborhood', 'Secure_Retirement', 'Family_Starter', 'Family_life', 'String_Trimmer', 'Empty_Nest', 'Golden_Ager', 'Younger_Employees', 'Suddenly_family',\n",
    "'Family_First', 'Stock_Market_Junkies', 'Coffee_Rider', 'Active_Retirement', 'Jobstarter', 'Petty_Bourgeois', 'Long_Established', 'Sportgardener', 'Urban_Parents', 'Frugal_Aging', 'Journeymen',\n",
    "'Mantaplatte', 'Factory_Worker', 'Rear_Window', 'Interested_Retirees', 'Multi_culteral', 'Young_Mobile', 'Prefab', 'Town_Seniours', 'First_Shared_Apartment', 'Tempory_Workers', 'Afternoon_Talk_Show',\n",
    "'Mini_jobber', 'Socking_Away']"
   ]
  },
  {
   "cell_type": "code",
   "execution_count": 38,
   "metadata": {},
   "outputs": [],
   "source": [
    "mailout_imputed_test.CAMEO_DEU_2015 = mailout_imputed_test.CAMEO_DEU_2015.replace(CAMEO_DEU_unique, CAMEO_DEU_labels)"
   ]
  },
  {
   "cell_type": "code",
   "execution_count": 39,
   "metadata": {},
   "outputs": [],
   "source": [
    "categorical_cols = ['CAMEO_DEU_2015']\n",
    "mailout_test_clean = Cleaning_functions.encode_cat(mailout_imputed_test, categorical_cols)"
   ]
  },
  {
   "cell_type": "code",
   "execution_count": 40,
   "metadata": {},
   "outputs": [],
   "source": [
    "mailout_test_clean.to_csv('data/mailout_test_clean.csv')"
   ]
  },
  {
   "cell_type": "code",
   "execution_count": 41,
   "metadata": {},
   "outputs": [],
   "source": [
    "LNR = mailout_test_clean['LNR']"
   ]
  },
  {
   "cell_type": "code",
   "execution_count": 42,
   "metadata": {},
   "outputs": [
    {
     "data": {
      "text/plain": [
       "(34296,)"
      ]
     },
     "execution_count": 42,
     "metadata": {},
     "output_type": "execute_result"
    }
   ],
   "source": [
    "LNR.shape"
   ]
  },
  {
   "cell_type": "code",
   "execution_count": 43,
   "metadata": {},
   "outputs": [],
   "source": [
    "mailout_test_to_score = mailout_test_clean.drop('LNR', axis = 1)"
   ]
  },
  {
   "cell_type": "code",
   "execution_count": 44,
   "metadata": {},
   "outputs": [
    {
     "data": {
      "text/plain": [
       "(34296, 397)"
      ]
     },
     "execution_count": 44,
     "metadata": {},
     "output_type": "execute_result"
    }
   ],
   "source": [
    "mailout_test_to_score.shape"
   ]
  },
  {
   "cell_type": "code",
   "execution_count": 51,
   "metadata": {},
   "outputs": [],
   "source": [
    "cluster_centers_df = pd.read_csv('data/cluster_centers_df.csv')"
   ]
  },
  {
   "cell_type": "markdown",
   "metadata": {},
   "source": []
  },
  {
   "cell_type": "code",
   "execution_count": 52,
   "metadata": {},
   "outputs": [],
   "source": [
    "cols = list(cluster_centers_df.columns)\n",
    "cols.remove('HH_DELTA_FLAG')\n",
    "cols.remove('Unnamed: 0')"
   ]
  },
  {
   "cell_type": "code",
   "execution_count": 56,
   "metadata": {},
   "outputs": [],
   "source": [
    "mailout_test_to_score = mailout_test_to_score[cols]"
   ]
  },
  {
   "cell_type": "code",
   "execution_count": 60,
   "metadata": {},
   "outputs": [],
   "source": [
    "mailout_test_to_score = mailout_test_to_score.astype(dtype='float64')"
   ]
  },
  {
   "cell_type": "code",
   "execution_count": 71,
   "metadata": {},
   "outputs": [],
   "source": [
    "test_predictions = best_class_tech_sc.predict_proba(mailout_test_to_score)"
   ]
  },
  {
   "cell_type": "code",
   "execution_count": 76,
   "metadata": {},
   "outputs": [],
   "source": [
    "Predictions = pd.DataFrame(columns = ['LNR','RESPONSE'])\n",
    "Predictions['LNR'] = LNR\n",
    "Predictions['RESPONSE'] = test_predictions[:, 1] "
   ]
  },
  {
   "cell_type": "code",
   "execution_count": 77,
   "metadata": {},
   "outputs": [
    {
     "data": {
      "text/html": [
       "<div>\n",
       "<style scoped>\n",
       "    .dataframe tbody tr th:only-of-type {\n",
       "        vertical-align: middle;\n",
       "    }\n",
       "\n",
       "    .dataframe tbody tr th {\n",
       "        vertical-align: top;\n",
       "    }\n",
       "\n",
       "    .dataframe thead th {\n",
       "        text-align: right;\n",
       "    }\n",
       "</style>\n",
       "<table border=\"1\" class=\"dataframe\">\n",
       "  <thead>\n",
       "    <tr style=\"text-align: right;\">\n",
       "      <th></th>\n",
       "      <th>LNR</th>\n",
       "      <th>RESPONSE</th>\n",
       "    </tr>\n",
       "  </thead>\n",
       "  <tbody>\n",
       "    <tr>\n",
       "      <th>0</th>\n",
       "      <td>1754.0</td>\n",
       "      <td>0.075972</td>\n",
       "    </tr>\n",
       "    <tr>\n",
       "      <th>1</th>\n",
       "      <td>1770.0</td>\n",
       "      <td>0.036268</td>\n",
       "    </tr>\n",
       "    <tr>\n",
       "      <th>2</th>\n",
       "      <td>1465.0</td>\n",
       "      <td>0.001578</td>\n",
       "    </tr>\n",
       "    <tr>\n",
       "      <th>3</th>\n",
       "      <td>1470.0</td>\n",
       "      <td>0.004005</td>\n",
       "    </tr>\n",
       "    <tr>\n",
       "      <th>4</th>\n",
       "      <td>1478.0</td>\n",
       "      <td>0.004440</td>\n",
       "    </tr>\n",
       "    <tr>\n",
       "      <th>5</th>\n",
       "      <td>1782.0</td>\n",
       "      <td>0.001274</td>\n",
       "    </tr>\n",
       "    <tr>\n",
       "      <th>6</th>\n",
       "      <td>1485.0</td>\n",
       "      <td>0.003528</td>\n",
       "    </tr>\n",
       "    <tr>\n",
       "      <th>7</th>\n",
       "      <td>1519.0</td>\n",
       "      <td>0.033477</td>\n",
       "    </tr>\n",
       "    <tr>\n",
       "      <th>8</th>\n",
       "      <td>1835.0</td>\n",
       "      <td>0.022018</td>\n",
       "    </tr>\n",
       "    <tr>\n",
       "      <th>9</th>\n",
       "      <td>1522.0</td>\n",
       "      <td>0.003567</td>\n",
       "    </tr>\n",
       "  </tbody>\n",
       "</table>\n",
       "</div>"
      ],
      "text/plain": [
       "      LNR  RESPONSE\n",
       "0  1754.0  0.075972\n",
       "1  1770.0  0.036268\n",
       "2  1465.0  0.001578\n",
       "3  1470.0  0.004005\n",
       "4  1478.0  0.004440\n",
       "5  1782.0  0.001274\n",
       "6  1485.0  0.003528\n",
       "7  1519.0  0.033477\n",
       "8  1835.0  0.022018\n",
       "9  1522.0  0.003567"
      ]
     },
     "execution_count": 77,
     "metadata": {},
     "output_type": "execute_result"
    }
   ],
   "source": [
    "Predictions.head(10)"
   ]
  },
  {
   "cell_type": "code",
   "execution_count": 81,
   "metadata": {},
   "outputs": [
    {
     "data": {
      "image/png": "[encoded data removed]",
      "text/plain": [
       "<Figure size 432x288 with 1 Axes>"
      ]
     },
     "metadata": {
      "needs_background": "light"
     },
     "output_type": "display_data"
    }
   ],
   "source": [
    "n, bins, patches = plt.hist(Predictions['RESPONSE'], 50, density=True, facecolor ='b', alpha=0.75)"
   ]
  },
  {
   "cell_type": "code",
   "execution_count": 82,
   "metadata": {},
   "outputs": [],
   "source": [
    "Test_accepts = Predictions.loc[Predictions['RESPONSE'] >= 0.5]"
   ]
  },
  {
   "cell_type": "code",
   "execution_count": 83,
   "metadata": {},
   "outputs": [
    {
     "data": {
      "text/plain": [
       "(1, 2)"
      ]
     },
     "execution_count": 83,
     "metadata": {},
     "output_type": "execute_result"
    }
   ],
   "source": [
    "Test_accepts.shape"
   ]
  },
  {
   "cell_type": "code",
   "execution_count": 84,
   "metadata": {},
   "outputs": [
    {
     "data": {
      "text/html": [
       "<div>\n",
       "<style scoped>\n",
       "    .dataframe tbody tr th:only-of-type {\n",
       "        vertical-align: middle;\n",
       "    }\n",
       "\n",
       "    .dataframe tbody tr th {\n",
       "        vertical-align: top;\n",
       "    }\n",
       "\n",
       "    .dataframe thead th {\n",
       "        text-align: right;\n",
       "    }\n",
       "</style>\n",
       "<table border=\"1\" class=\"dataframe\">\n",
       "  <thead>\n",
       "    <tr style=\"text-align: right;\">\n",
       "      <th></th>\n",
       "      <th>LNR</th>\n",
       "      <th>RESPONSE</th>\n",
       "    </tr>\n",
       "  </thead>\n",
       "  <tbody>\n",
       "    <tr>\n",
       "      <th>33099</th>\n",
       "      <td>50447.0</td>\n",
       "      <td>0.515849</td>\n",
       "    </tr>\n",
       "  </tbody>\n",
       "</table>\n",
       "</div>"
      ],
      "text/plain": [
       "           LNR  RESPONSE\n",
       "33099  50447.0  0.515849"
      ]
     },
     "execution_count": 84,
     "metadata": {},
     "output_type": "execute_result"
    }
   ],
   "source": [
    "Test_accepts"
   ]
  },
  {
   "cell_type": "markdown",
   "metadata": {},
   "source": [
    "1.4% acceptance in training\n",
    "\n",
    "This is a terrible prediction, the distribution is so skewed dispite the sample SMOTE step. I though the XGBoost and sampling would handle the class imbalance better but it's clear that the criteria for someone to have a positive RESPONSE is not being met. "
   ]
  },
  {
   "cell_type": "code",
   "execution_count": 85,
   "metadata": {},
   "outputs": [
    {
     "data": {
      "text/plain": [
       "0.0029157919290879403"
      ]
     },
     "execution_count": 85,
     "metadata": {},
     "output_type": "execute_result"
    }
   ],
   "source": [
    "Test_accepts.shape[0]/Predictions.shape[0] * 100"
   ]
  },
  {
   "cell_type": "markdown",
   "metadata": {},
   "source": [
    "It's orders of marginitude off. I'm going to apply a Logistic Regression model though the feature importance is not readily available, it has teh potential to predict with better percision over accuracy.\n",
    "\n",
    "I split scripts here, between this and 4_Logistic_regression and bring in the results to compare here in 3_model_analysis."
   ]
  },
  {
   "cell_type": "code",
   "execution_count": 87,
   "metadata": {},
   "outputs": [],
   "source": [
    "LogModel = pickle.load(open('Results/LogModel_test.pkl', 'rb'))"
   ]
  },
  {
   "cell_type": "code",
   "execution_count": 88,
   "metadata": {},
   "outputs": [],
   "source": [
    "log_test_predictions = LogModel.predict_proba(mailout_test_to_score)"
   ]
  },
  {
   "cell_type": "code",
   "execution_count": 89,
   "metadata": {},
   "outputs": [],
   "source": [
    "log_Predictions = pd.DataFrame(columns = ['LNR','RESPONSE'])\n",
    "log_Predictions['LNR'] = LNR\n",
    "log_Predictions['RESPONSE'] = log_test_predictions[:, 1] "
   ]
  },
  {
   "cell_type": "code",
   "execution_count": 91,
   "metadata": {},
   "outputs": [
    {
     "data": {
      "text/html": [
       "<div>\n",
       "<style scoped>\n",
       "    .dataframe tbody tr th:only-of-type {\n",
       "        vertical-align: middle;\n",
       "    }\n",
       "\n",
       "    .dataframe tbody tr th {\n",
       "        vertical-align: top;\n",
       "    }\n",
       "\n",
       "    .dataframe thead th {\n",
       "        text-align: right;\n",
       "    }\n",
       "</style>\n",
       "<table border=\"1\" class=\"dataframe\">\n",
       "  <thead>\n",
       "    <tr style=\"text-align: right;\">\n",
       "      <th></th>\n",
       "      <th>LNR</th>\n",
       "      <th>RESPONSE</th>\n",
       "    </tr>\n",
       "  </thead>\n",
       "  <tbody>\n",
       "    <tr>\n",
       "      <th>0</th>\n",
       "      <td>1754.0</td>\n",
       "      <td>0.611094</td>\n",
       "    </tr>\n",
       "    <tr>\n",
       "      <th>1</th>\n",
       "      <td>1770.0</td>\n",
       "      <td>0.674747</td>\n",
       "    </tr>\n",
       "    <tr>\n",
       "      <th>2</th>\n",
       "      <td>1465.0</td>\n",
       "      <td>0.057150</td>\n",
       "    </tr>\n",
       "    <tr>\n",
       "      <th>3</th>\n",
       "      <td>1470.0</td>\n",
       "      <td>0.092469</td>\n",
       "    </tr>\n",
       "    <tr>\n",
       "      <th>4</th>\n",
       "      <td>1478.0</td>\n",
       "      <td>0.661554</td>\n",
       "    </tr>\n",
       "  </tbody>\n",
       "</table>\n",
       "</div>"
      ],
      "text/plain": [
       "      LNR  RESPONSE\n",
       "0  1754.0  0.611094\n",
       "1  1770.0  0.674747\n",
       "2  1465.0  0.057150\n",
       "3  1470.0  0.092469\n",
       "4  1478.0  0.661554"
      ]
     },
     "execution_count": 91,
     "metadata": {},
     "output_type": "execute_result"
    }
   ],
   "source": [
    "log_Predictions.head()"
   ]
  },
  {
   "cell_type": "code",
   "execution_count": 92,
   "metadata": {},
   "outputs": [
    {
     "data": {
      "image/png": "[encoded data removed]",
      "text/plain": [
       "<Figure size 432x288 with 1 Axes>"
      ]
     },
     "metadata": {
      "needs_background": "light"
     },
     "output_type": "display_data"
    }
   ],
   "source": [
    "n, bins, patches = plt.hist(log_Predictions['RESPONSE'], 50, density=True, facecolor ='g', alpha=0.75)"
   ]
  },
  {
   "cell_type": "code",
   "execution_count": 93,
   "metadata": {},
   "outputs": [],
   "source": [
    "log_test_predictions_binary = LogModel.predict(mailout_test_to_score)"
   ]
  },
  {
   "cell_type": "code",
   "execution_count": 95,
   "metadata": {},
   "outputs": [],
   "source": [
    "log_Predictions_binary = pd.DataFrame(columns = ['LNR','RESPONSE'])\n",
    "log_Predictions_binary['LNR'] = LNR\n",
    "log_Predictions_binary['RESPONSE'] = log_test_predictions_binary"
   ]
  },
  {
   "cell_type": "code",
   "execution_count": 96,
   "metadata": {},
   "outputs": [
    {
     "data": {
      "text/html": [
       "<div>\n",
       "<style scoped>\n",
       "    .dataframe tbody tr th:only-of-type {\n",
       "        vertical-align: middle;\n",
       "    }\n",
       "\n",
       "    .dataframe tbody tr th {\n",
       "        vertical-align: top;\n",
       "    }\n",
       "\n",
       "    .dataframe thead th {\n",
       "        text-align: right;\n",
       "    }\n",
       "</style>\n",
       "<table border=\"1\" class=\"dataframe\">\n",
       "  <thead>\n",
       "    <tr style=\"text-align: right;\">\n",
       "      <th></th>\n",
       "      <th>LNR</th>\n",
       "      <th>RESPONSE</th>\n",
       "    </tr>\n",
       "  </thead>\n",
       "  <tbody>\n",
       "    <tr>\n",
       "      <th>0</th>\n",
       "      <td>1754.0</td>\n",
       "      <td>1</td>\n",
       "    </tr>\n",
       "    <tr>\n",
       "      <th>1</th>\n",
       "      <td>1770.0</td>\n",
       "      <td>1</td>\n",
       "    </tr>\n",
       "    <tr>\n",
       "      <th>2</th>\n",
       "      <td>1465.0</td>\n",
       "      <td>0</td>\n",
       "    </tr>\n",
       "    <tr>\n",
       "      <th>3</th>\n",
       "      <td>1470.0</td>\n",
       "      <td>0</td>\n",
       "    </tr>\n",
       "    <tr>\n",
       "      <th>4</th>\n",
       "      <td>1478.0</td>\n",
       "      <td>1</td>\n",
       "    </tr>\n",
       "  </tbody>\n",
       "</table>\n",
       "</div>"
      ],
      "text/plain": [
       "      LNR  RESPONSE\n",
       "0  1754.0         1\n",
       "1  1770.0         1\n",
       "2  1465.0         0\n",
       "3  1470.0         0\n",
       "4  1478.0         1"
      ]
     },
     "execution_count": 96,
     "metadata": {},
     "output_type": "execute_result"
    }
   ],
   "source": [
    "log_Predictions_binary.head()"
   ]
  },
  {
   "cell_type": "code",
   "execution_count": 105,
   "metadata": {},
   "outputs": [
    {
     "data": {
      "image/png": "[encoded data removed]",
      "text/plain": [
       "<Figure size 432x288 with 1 Axes>"
      ]
     },
     "metadata": {
      "needs_background": "light"
     },
     "output_type": "display_data"
    }
   ],
   "source": [
    "n, bins, patches = plt.hist(log_Predictions_binary['RESPONSE'], 2, density=True, facecolor ='g', alpha=0.75)"
   ]
  },
  {
   "cell_type": "code",
   "execution_count": 100,
   "metadata": {},
   "outputs": [],
   "source": [
    "Test_accepts_log = log_Predictions_binary.loc[log_Predictions_binary['RESPONSE'] == 1]"
   ]
  },
  {
   "cell_type": "code",
   "execution_count": 101,
   "metadata": {},
   "outputs": [
    {
     "data": {
      "text/plain": [
       "29.041287613715884"
      ]
     },
     "execution_count": 101,
     "metadata": {},
     "output_type": "execute_result"
    }
   ],
   "source": [
    "Test_accepts_log.shape[0]/log_Predictions_binary.shape[0] * 100"
   ]
  },
  {
   "cell_type": "markdown",
   "metadata": {},
   "source": [
    "Over predictive by a huge amount - the data was over sampled so I'm going to test some lower SMOTE values to get the VALIDATION data set balanced the ACCEPTANCE levels."
   ]
  },
  {
   "cell_type": "code",
   "execution_count": 122,
   "metadata": {},
   "outputs": [],
   "source": [
    "LogModel_2 = pickle.load(open('Results/LogModel_test_2.pkl', 'rb'))"
   ]
  },
  {
   "cell_type": "code",
   "execution_count": 104,
   "metadata": {},
   "outputs": [],
   "source": [
    "log_test_predictions_2 = LogModel_2.predict_proba(mailout_test_to_score)"
   ]
  },
  {
   "cell_type": "code",
   "execution_count": 110,
   "metadata": {},
   "outputs": [
    {
     "data": {
      "text/plain": [
       "array([[0.41480505, 0.58519495],\n",
       "       [0.27602044, 0.72397956],\n",
       "       [0.93457284, 0.06542716],\n",
       "       ...,\n",
       "       [0.57575318, 0.42424682],\n",
       "       [0.46165091, 0.53834909],\n",
       "       [0.73005508, 0.26994492]])"
      ]
     },
     "execution_count": 110,
     "metadata": {},
     "output_type": "execute_result"
    }
   ],
   "source": [
    "log_test_predictions_2"
   ]
  },
  {
   "cell_type": "code",
   "execution_count": 111,
   "metadata": {},
   "outputs": [],
   "source": [
    "log_Predictions_2 = pd.DataFrame(columns = ['LNR','RESPONSE'])\n",
    "log_Predictions_2['LNR'] = LNR\n",
    "log_Predictions_2['RESPONSE'] = log_test_predictions_2[:,1]"
   ]
  },
  {
   "cell_type": "code",
   "execution_count": 112,
   "metadata": {},
   "outputs": [
    {
     "data": {
      "text/html": [
       "<div>\n",
       "<style scoped>\n",
       "    .dataframe tbody tr th:only-of-type {\n",
       "        vertical-align: middle;\n",
       "    }\n",
       "\n",
       "    .dataframe tbody tr th {\n",
       "        vertical-align: top;\n",
       "    }\n",
       "\n",
       "    .dataframe thead th {\n",
       "        text-align: right;\n",
       "    }\n",
       "</style>\n",
       "<table border=\"1\" class=\"dataframe\">\n",
       "  <thead>\n",
       "    <tr style=\"text-align: right;\">\n",
       "      <th></th>\n",
       "      <th>LNR</th>\n",
       "      <th>RESPONSE</th>\n",
       "    </tr>\n",
       "  </thead>\n",
       "  <tbody>\n",
       "    <tr>\n",
       "      <th>0</th>\n",
       "      <td>1754.0</td>\n",
       "      <td>0.585195</td>\n",
       "    </tr>\n",
       "    <tr>\n",
       "      <th>1</th>\n",
       "      <td>1770.0</td>\n",
       "      <td>0.723980</td>\n",
       "    </tr>\n",
       "    <tr>\n",
       "      <th>2</th>\n",
       "      <td>1465.0</td>\n",
       "      <td>0.065427</td>\n",
       "    </tr>\n",
       "    <tr>\n",
       "      <th>3</th>\n",
       "      <td>1470.0</td>\n",
       "      <td>0.152170</td>\n",
       "    </tr>\n",
       "    <tr>\n",
       "      <th>4</th>\n",
       "      <td>1478.0</td>\n",
       "      <td>0.474042</td>\n",
       "    </tr>\n",
       "  </tbody>\n",
       "</table>\n",
       "</div>"
      ],
      "text/plain": [
       "      LNR  RESPONSE\n",
       "0  1754.0  0.585195\n",
       "1  1770.0  0.723980\n",
       "2  1465.0  0.065427\n",
       "3  1470.0  0.152170\n",
       "4  1478.0  0.474042"
      ]
     },
     "execution_count": 112,
     "metadata": {},
     "output_type": "execute_result"
    }
   ],
   "source": [
    "log_Predictions_2.head()"
   ]
  },
  {
   "cell_type": "code",
   "execution_count": 113,
   "metadata": {},
   "outputs": [
    {
     "data": {
      "image/png": "[encoded data removed]",
      "text/plain": [
       "<Figure size 432x288 with 1 Axes>"
      ]
     },
     "metadata": {
      "needs_background": "light"
     },
     "output_type": "display_data"
    }
   ],
   "source": [
    "n, bins, patches = plt.hist(log_Predictions_2['RESPONSE'], 50, density=True, facecolor ='r', alpha=0.75)"
   ]
  },
  {
   "cell_type": "code",
   "execution_count": 114,
   "metadata": {},
   "outputs": [],
   "source": [
    "log_test_predictions_binary_2 = LogModel_2.predict(mailout_test_to_score)"
   ]
  },
  {
   "cell_type": "code",
   "execution_count": 115,
   "metadata": {},
   "outputs": [],
   "source": [
    "log_Predictions_binary_2 = pd.DataFrame(columns = ['LNR','RESPONSE'])\n",
    "log_Predictions_binary_2['LNR'] = LNR\n",
    "log_Predictions_binary_2['RESPONSE'] = log_test_predictions_binary_2"
   ]
  },
  {
   "cell_type": "code",
   "execution_count": 116,
   "metadata": {},
   "outputs": [
    {
     "data": {
      "text/html": [
       "<div>\n",
       "<style scoped>\n",
       "    .dataframe tbody tr th:only-of-type {\n",
       "        vertical-align: middle;\n",
       "    }\n",
       "\n",
       "    .dataframe tbody tr th {\n",
       "        vertical-align: top;\n",
       "    }\n",
       "\n",
       "    .dataframe thead th {\n",
       "        text-align: right;\n",
       "    }\n",
       "</style>\n",
       "<table border=\"1\" class=\"dataframe\">\n",
       "  <thead>\n",
       "    <tr style=\"text-align: right;\">\n",
       "      <th></th>\n",
       "      <th>LNR</th>\n",
       "      <th>RESPONSE</th>\n",
       "    </tr>\n",
       "  </thead>\n",
       "  <tbody>\n",
       "    <tr>\n",
       "      <th>0</th>\n",
       "      <td>1754.0</td>\n",
       "      <td>1</td>\n",
       "    </tr>\n",
       "    <tr>\n",
       "      <th>1</th>\n",
       "      <td>1770.0</td>\n",
       "      <td>1</td>\n",
       "    </tr>\n",
       "    <tr>\n",
       "      <th>2</th>\n",
       "      <td>1465.0</td>\n",
       "      <td>0</td>\n",
       "    </tr>\n",
       "    <tr>\n",
       "      <th>3</th>\n",
       "      <td>1470.0</td>\n",
       "      <td>0</td>\n",
       "    </tr>\n",
       "    <tr>\n",
       "      <th>4</th>\n",
       "      <td>1478.0</td>\n",
       "      <td>0</td>\n",
       "    </tr>\n",
       "  </tbody>\n",
       "</table>\n",
       "</div>"
      ],
      "text/plain": [
       "      LNR  RESPONSE\n",
       "0  1754.0         1\n",
       "1  1770.0         1\n",
       "2  1465.0         0\n",
       "3  1470.0         0\n",
       "4  1478.0         0"
      ]
     },
     "execution_count": 116,
     "metadata": {},
     "output_type": "execute_result"
    }
   ],
   "source": [
    "log_Predictions_binary_2.head()"
   ]
  },
  {
   "cell_type": "code",
   "execution_count": 117,
   "metadata": {},
   "outputs": [
    {
     "data": {
      "image/png": "[encoded data removed]",
      "text/plain": [
       "<Figure size 432x288 with 1 Axes>"
      ]
     },
     "metadata": {
      "needs_background": "light"
     },
     "output_type": "display_data"
    }
   ],
   "source": [
    "n, bins, patches = plt.hist(log_Predictions_binary_2['RESPONSE'], 2, density=True, facecolor ='r', alpha=0.75)"
   ]
  },
  {
   "cell_type": "code",
   "execution_count": 118,
   "metadata": {},
   "outputs": [],
   "source": [
    "Test_accepts_log_2 = log_Predictions_binary_2.loc[log_Predictions_binary_2['RESPONSE'] == 1]"
   ]
  },
  {
   "cell_type": "code",
   "execution_count": 119,
   "metadata": {},
   "outputs": [
    {
     "data": {
      "text/plain": [
       "30.685794261721483"
      ]
     },
     "execution_count": 119,
     "metadata": {},
     "output_type": "execute_result"
    }
   ],
   "source": [
    "Test_accepts_log_2.shape[0]/log_Predictions_binary_2.shape[0] * 100"
   ]
  },
  {
   "cell_type": "markdown",
   "metadata": {},
   "source": [
    "with no sampling as a check it performs much worse. "
   ]
  },
  {
   "cell_type": "code",
   "execution_count": 121,
   "metadata": {},
   "outputs": [],
   "source": [
    "LogModel_3 = pickle.load(open('Results/LogModel_test_3.pkl', 'rb'))"
   ]
  },
  {
   "cell_type": "code",
   "execution_count": 123,
   "metadata": {},
   "outputs": [],
   "source": [
    "log_test_predictions_3 = LogModel_3.predict_proba(mailout_test_to_score)"
   ]
  },
  {
   "cell_type": "code",
   "execution_count": 124,
   "metadata": {},
   "outputs": [],
   "source": [
    "log_Predictions_3 = pd.DataFrame(columns = ['LNR','RESPONSE'])\n",
    "log_Predictions_3['LNR'] = LNR\n",
    "log_Predictions_3['RESPONSE'] = log_test_predictions_3[:,1]"
   ]
  },
  {
   "cell_type": "code",
   "execution_count": 126,
   "metadata": {},
   "outputs": [
    {
     "data": {
      "image/png": "[encoded data removed]",
      "text/plain": [
       "<Figure size 432x288 with 1 Axes>"
      ]
     },
     "metadata": {
      "needs_background": "light"
     },
     "output_type": "display_data"
    }
   ],
   "source": [
    "n, bins, patches = plt.hist(log_Predictions_3['RESPONSE'], 50, density=True, facecolor ='c', alpha=0.75)"
   ]
  },
  {
   "cell_type": "code",
   "execution_count": 127,
   "metadata": {},
   "outputs": [],
   "source": [
    "log_test_predictions_binary_3 = LogModel_3.predict(mailout_test_to_score)"
   ]
  },
  {
   "cell_type": "code",
   "execution_count": 128,
   "metadata": {},
   "outputs": [],
   "source": [
    "log_Predictions_binary_3 = pd.DataFrame(columns = ['LNR','RESPONSE'])\n",
    "log_Predictions_binary_3['LNR'] = LNR\n",
    "log_Predictions_binary_3['RESPONSE'] = log_test_predictions_binary_3"
   ]
  },
  {
   "cell_type": "code",
   "execution_count": 129,
   "metadata": {},
   "outputs": [
    {
     "data": {
      "image/png": "[encoded data removed]",
      "text/plain": [
       "<Figure size 432x288 with 1 Axes>"
      ]
     },
     "metadata": {
      "needs_background": "light"
     },
     "output_type": "display_data"
    }
   ],
   "source": [
    "n, bins, patches = plt.hist(log_Predictions_binary_3['RESPONSE'], 2, density=True, facecolor ='c', alpha=0.75)"
   ]
  },
  {
   "cell_type": "code",
   "execution_count": 130,
   "metadata": {},
   "outputs": [],
   "source": [
    "Test_accepts_log_3 = log_Predictions_binary_3.loc[log_Predictions_binary_3['RESPONSE'] == 1]"
   ]
  },
  {
   "cell_type": "code",
   "execution_count": 131,
   "metadata": {},
   "outputs": [
    {
     "data": {
      "text/plain": [
       "3.589339864707255"
      ]
     },
     "execution_count": 131,
     "metadata": {},
     "output_type": "execute_result"
    }
   ],
   "source": [
    "Test_accepts_log_3.shape[0]/log_Predictions_binary_3.shape[0] * 100"
   ]
  },
  {
   "cell_type": "markdown",
   "metadata": {},
   "source": [
    "This is much closer to a balanced prediction."
   ]
  },
  {
   "cell_type": "code",
   "execution_count": 132,
   "metadata": {},
   "outputs": [],
   "source": [
    "log_Predictions_3.to_csv('Kaggle_predictions/kaggle_probability_predictions.csv', index=False)\n",
    "log_Predictions_binary_3.to_csv('Kaggle_predictions/kaggle_binary_predictions.csv', index=False)"
   ]
  },
  {
   "cell_type": "markdown",
   "metadata": {},
   "source": [
    "to_do - \n",
    "1. finish off analysis for cluster centers\n",
    "2. fix that seaborn graph to a matplotlib one\n",
    "3. tidy up all scripts into a functional process\n",
    "4. document functions\n",
    "5. compile some kind of report\n",
    "6. submit "
   ]
  },
  {
   "cell_type": "code",
   "execution_count": 133,
   "metadata": {},
   "outputs": [
    {
     "data": {
      "text/html": [
       "<div>\n",
       "<style scoped>\n",
       "    .dataframe tbody tr th:only-of-type {\n",
       "        vertical-align: middle;\n",
       "    }\n",
       "\n",
       "    .dataframe tbody tr th {\n",
       "        vertical-align: top;\n",
       "    }\n",
       "\n",
       "    .dataframe thead th {\n",
       "        text-align: right;\n",
       "    }\n",
       "</style>\n",
       "<table border=\"1\" class=\"dataframe\">\n",
       "  <thead>\n",
       "    <tr style=\"text-align: right;\">\n",
       "      <th></th>\n",
       "      <th>Unnamed: 0</th>\n",
       "      <th>AGER_TYP</th>\n",
       "      <th>AKT_DAT_KL</th>\n",
       "      <th>ALTER_HH</th>\n",
       "      <th>ALTERSKATEGORIE_FEIN</th>\n",
       "      <th>ANZ_HAUSHALTE_AKTIV</th>\n",
       "      <th>ANZ_HH_TITEL</th>\n",
       "      <th>ANZ_KINDER</th>\n",
       "      <th>ANZ_PERSONEN</th>\n",
       "      <th>ANZ_STATISTISCHE_HAUSHALTE</th>\n",
       "      <th>...</th>\n",
       "      <th>KBA05_KRSHERST2</th>\n",
       "      <th>KBA05_KRSHERST3</th>\n",
       "      <th>KBA05_KRSKLEIN</th>\n",
       "      <th>KBA05_KRSOBER</th>\n",
       "      <th>KBA05_KRSVAN</th>\n",
       "      <th>KBA05_KRSZUL</th>\n",
       "      <th>KBA05_KW1</th>\n",
       "      <th>KBA05_KW2</th>\n",
       "      <th>KBA05_KW3</th>\n",
       "      <th>KBA05_MAXAH</th>\n",
       "    </tr>\n",
       "  </thead>\n",
       "  <tbody>\n",
       "    <tr>\n",
       "      <th>0</th>\n",
       "      <td>0</td>\n",
       "      <td>3.535460</td>\n",
       "      <td>-0.641637</td>\n",
       "      <td>1.015012</td>\n",
       "      <td>-0.681216</td>\n",
       "      <td>-4.220081</td>\n",
       "      <td>0.336008</td>\n",
       "      <td>-0.239587</td>\n",
       "      <td>-0.916983</td>\n",
       "      <td>0.103471</td>\n",
       "      <td>...</td>\n",
       "      <td>-0.021387</td>\n",
       "      <td>0.008341</td>\n",
       "      <td>0.027953</td>\n",
       "      <td>-0.007280</td>\n",
       "      <td>0.028103</td>\n",
       "      <td>-0.037599</td>\n",
       "      <td>-0.030847</td>\n",
       "      <td>-0.017986</td>\n",
       "      <td>-0.043105</td>\n",
       "      <td>-0.001919</td>\n",
       "    </tr>\n",
       "    <tr>\n",
       "      <th>1</th>\n",
       "      <td>1</td>\n",
       "      <td>-0.217274</td>\n",
       "      <td>39.909951</td>\n",
       "      <td>11.223507</td>\n",
       "      <td>8.242846</td>\n",
       "      <td>1.342616</td>\n",
       "      <td>0.151597</td>\n",
       "      <td>-0.082740</td>\n",
       "      <td>-0.042895</td>\n",
       "      <td>-0.844324</td>\n",
       "      <td>...</td>\n",
       "      <td>-0.046524</td>\n",
       "      <td>0.024376</td>\n",
       "      <td>-0.071534</td>\n",
       "      <td>0.010132</td>\n",
       "      <td>0.012792</td>\n",
       "      <td>0.041499</td>\n",
       "      <td>-0.003607</td>\n",
       "      <td>0.025548</td>\n",
       "      <td>0.021651</td>\n",
       "      <td>-0.077486</td>\n",
       "    </tr>\n",
       "    <tr>\n",
       "      <th>2</th>\n",
       "      <td>2</td>\n",
       "      <td>-4.808584</td>\n",
       "      <td>-2.357121</td>\n",
       "      <td>5.000866</td>\n",
       "      <td>-0.245749</td>\n",
       "      <td>2.135969</td>\n",
       "      <td>-0.369426</td>\n",
       "      <td>0.622371</td>\n",
       "      <td>0.128362</td>\n",
       "      <td>-0.769084</td>\n",
       "      <td>...</td>\n",
       "      <td>-0.001064</td>\n",
       "      <td>0.023258</td>\n",
       "      <td>0.001902</td>\n",
       "      <td>0.014600</td>\n",
       "      <td>0.030524</td>\n",
       "      <td>-0.004656</td>\n",
       "      <td>-0.009255</td>\n",
       "      <td>-0.065090</td>\n",
       "      <td>0.008271</td>\n",
       "      <td>0.032153</td>\n",
       "    </tr>\n",
       "    <tr>\n",
       "      <th>3</th>\n",
       "      <td>3</td>\n",
       "      <td>-2.614532</td>\n",
       "      <td>-0.548584</td>\n",
       "      <td>1.615112</td>\n",
       "      <td>0.071416</td>\n",
       "      <td>-4.894031</td>\n",
       "      <td>0.191685</td>\n",
       "      <td>-0.029458</td>\n",
       "      <td>-0.242083</td>\n",
       "      <td>0.418311</td>\n",
       "      <td>...</td>\n",
       "      <td>0.028082</td>\n",
       "      <td>0.016115</td>\n",
       "      <td>0.023655</td>\n",
       "      <td>-0.037181</td>\n",
       "      <td>-0.011475</td>\n",
       "      <td>0.026477</td>\n",
       "      <td>0.025703</td>\n",
       "      <td>0.005171</td>\n",
       "      <td>-0.065703</td>\n",
       "      <td>-0.014585</td>\n",
       "    </tr>\n",
       "    <tr>\n",
       "      <th>4</th>\n",
       "      <td>4</td>\n",
       "      <td>6.324426</td>\n",
       "      <td>-1.473750</td>\n",
       "      <td>-1.872796</td>\n",
       "      <td>5.160498</td>\n",
       "      <td>3.252845</td>\n",
       "      <td>3.666517</td>\n",
       "      <td>0.008705</td>\n",
       "      <td>-0.894831</td>\n",
       "      <td>-0.366106</td>\n",
       "      <td>...</td>\n",
       "      <td>0.036752</td>\n",
       "      <td>0.026462</td>\n",
       "      <td>0.001370</td>\n",
       "      <td>0.043877</td>\n",
       "      <td>-0.005129</td>\n",
       "      <td>0.028238</td>\n",
       "      <td>0.008937</td>\n",
       "      <td>-0.010081</td>\n",
       "      <td>0.018358</td>\n",
       "      <td>-0.129392</td>\n",
       "    </tr>\n",
       "  </tbody>\n",
       "</table>\n",
       "<p>5 rows × 147 columns</p>\n",
       "</div>"
      ],
      "text/plain": [
       "   Unnamed: 0  AGER_TYP  AKT_DAT_KL   ALTER_HH  ALTERSKATEGORIE_FEIN  \\\n",
       "0           0  3.535460   -0.641637   1.015012             -0.681216   \n",
       "1           1 -0.217274   39.909951  11.223507              8.242846   \n",
       "2           2 -4.808584   -2.357121   5.000866             -0.245749   \n",
       "3           3 -2.614532   -0.548584   1.615112              0.071416   \n",
       "4           4  6.324426   -1.473750  -1.872796              5.160498   \n",
       "\n",
       "   ANZ_HAUSHALTE_AKTIV  ANZ_HH_TITEL  ANZ_KINDER  ANZ_PERSONEN  \\\n",
       "0            -4.220081      0.336008   -0.239587     -0.916983   \n",
       "1             1.342616      0.151597   -0.082740     -0.042895   \n",
       "2             2.135969     -0.369426    0.622371      0.128362   \n",
       "3            -4.894031      0.191685   -0.029458     -0.242083   \n",
       "4             3.252845      3.666517    0.008705     -0.894831   \n",
       "\n",
       "   ANZ_STATISTISCHE_HAUSHALTE  ...  KBA05_KRSHERST2  KBA05_KRSHERST3  \\\n",
       "0                    0.103471  ...        -0.021387         0.008341   \n",
       "1                   -0.844324  ...        -0.046524         0.024376   \n",
       "2                   -0.769084  ...        -0.001064         0.023258   \n",
       "3                    0.418311  ...         0.028082         0.016115   \n",
       "4                   -0.366106  ...         0.036752         0.026462   \n",
       "\n",
       "   KBA05_KRSKLEIN  KBA05_KRSOBER  KBA05_KRSVAN  KBA05_KRSZUL  KBA05_KW1  \\\n",
       "0        0.027953      -0.007280      0.028103     -0.037599  -0.030847   \n",
       "1       -0.071534       0.010132      0.012792      0.041499  -0.003607   \n",
       "2        0.001902       0.014600      0.030524     -0.004656  -0.009255   \n",
       "3        0.023655      -0.037181     -0.011475      0.026477   0.025703   \n",
       "4        0.001370       0.043877     -0.005129      0.028238   0.008937   \n",
       "\n",
       "   KBA05_KW2  KBA05_KW3  KBA05_MAXAH  \n",
       "0  -0.017986  -0.043105    -0.001919  \n",
       "1   0.025548   0.021651    -0.077486  \n",
       "2  -0.065090   0.008271     0.032153  \n",
       "3   0.005171  -0.065703    -0.014585  \n",
       "4  -0.010081   0.018358    -0.129392  \n",
       "\n",
       "[5 rows x 147 columns]"
      ]
     },
     "execution_count": 133,
     "metadata": {},
     "output_type": "execute_result"
    }
   ],
   "source": [
    "cluster_centers_df.head()"
   ]
  },
  {
   "cell_type": "code",
   "execution_count": null,
   "metadata": {},
   "outputs": [],
   "source": []
  }
 ],
 "metadata": {
  "kernelspec": {
   "display_name": "Python 3.10.4 64-bit",
   "language": "python",
   "name": "python3"
  },
  "language_info": {
   "codemirror_mode": {
    "name": "ipython",
    "version": 3
   },
   "file_extension": ".py",
   "mimetype": "text/x-python",
   "name": "python",
   "nbconvert_exporter": "python",
   "pygments_lexer": "ipython3",
   "version": "3.10.4"
  },
  "orig_nbformat": 4,
  "vscode": {
   "interpreter": {
    "hash": "b681030e630a14bb10dd041dbf7395aa296cf42f5dce9d31bae9e4d0d30cfd9b"
   }
  }
 },
 "nbformat": 4,
 "nbformat_minor": 2
}
