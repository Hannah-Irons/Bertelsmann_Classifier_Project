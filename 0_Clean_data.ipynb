{
 "cells": [
  {
   "cell_type": "markdown",
   "metadata": {},
   "source": [
    "# 0_Clean_data\n",
    "\n",
    "Objective: there are four datasets that need cleaning and processing in the same way for segmenation and modelling. This script will call in Cleaning_functions.py and output teh clean datasets in /Data to be picked up in teh next steps of the project."
   ]
  },
  {
   "cell_type": "code",
   "execution_count": 16,
   "metadata": {},
   "outputs": [],
   "source": [
    "# import libraries and Cleaning_functions\n",
    "import numpy as np\n",
    "import pandas as pd\n",
    "import matplotlib.pyplot as plt\n",
    "\n",
    "import Cleaning_functions"
   ]
  },
  {
   "cell_type": "code",
   "execution_count": 17,
   "metadata": {},
   "outputs": [
    {
     "name": "stderr",
     "output_type": "stream",
     "text": [
      "C:\\Users\\Hannah\\AppData\\Local\\Temp\\ipykernel_17588\\1348514858.py:3: DtypeWarning: Columns (18,19) have mixed types. Specify dtype option on import or set low_memory=False.\n",
      "  azdias = pd.read_csv('data/Udacity_AZDIAS_052018.csv', sep=';')\n",
      "C:\\Users\\Hannah\\AppData\\Local\\Temp\\ipykernel_17588\\1348514858.py:4: DtypeWarning: Columns (18,19) have mixed types. Specify dtype option on import or set low_memory=False.\n",
      "  customers = pd.read_csv('data/Udacity_CUSTOMERS_052018.csv', sep=';')\n"
     ]
    }
   ],
   "source": [
    "# Read in azdias and customer data, analysis on these datasets will impack how the training and test data gets cleaned.\n",
    "\n",
    "azdias = pd.read_csv('data/Udacity_AZDIAS_052018.csv', sep=';')\n",
    "customers = pd.read_csv('data/Udacity_CUSTOMERS_052018.csv', sep=';')"
   ]
  },
  {
   "cell_type": "code",
   "execution_count": 18,
   "metadata": {},
   "outputs": [
    {
     "data": {
      "text/html": [
       "<div>\n",
       "<style scoped>\n",
       "    .dataframe tbody tr th:only-of-type {\n",
       "        vertical-align: middle;\n",
       "    }\n",
       "\n",
       "    .dataframe tbody tr th {\n",
       "        vertical-align: top;\n",
       "    }\n",
       "\n",
       "    .dataframe thead th {\n",
       "        text-align: right;\n",
       "    }\n",
       "</style>\n",
       "<table border=\"1\" class=\"dataframe\">\n",
       "  <thead>\n",
       "    <tr style=\"text-align: right;\">\n",
       "      <th></th>\n",
       "      <th>NaN sum</th>\n",
       "      <th>NaN %</th>\n",
       "    </tr>\n",
       "  </thead>\n",
       "  <tbody>\n",
       "    <tr>\n",
       "      <th>ALTER_KIND4</th>\n",
       "      <td>890016</td>\n",
       "      <td>99.864792</td>\n",
       "    </tr>\n",
       "    <tr>\n",
       "      <th>ALTER_KIND3</th>\n",
       "      <td>885051</td>\n",
       "      <td>99.307691</td>\n",
       "    </tr>\n",
       "    <tr>\n",
       "      <th>ALTER_KIND2</th>\n",
       "      <td>861722</td>\n",
       "      <td>96.690047</td>\n",
       "    </tr>\n",
       "    <tr>\n",
       "      <th>ALTER_KIND1</th>\n",
       "      <td>810163</td>\n",
       "      <td>90.904837</td>\n",
       "    </tr>\n",
       "    <tr>\n",
       "      <th>EXTSEL992</th>\n",
       "      <td>654153</td>\n",
       "      <td>73.399639</td>\n",
       "    </tr>\n",
       "    <tr>\n",
       "      <th>...</th>\n",
       "      <td>...</td>\n",
       "      <td>...</td>\n",
       "    </tr>\n",
       "    <tr>\n",
       "      <th>D19_VERSAND_ANZ_24</th>\n",
       "      <td>0</td>\n",
       "      <td>0.000000</td>\n",
       "    </tr>\n",
       "    <tr>\n",
       "      <th>D19_VERSAND_DATUM</th>\n",
       "      <td>0</td>\n",
       "      <td>0.000000</td>\n",
       "    </tr>\n",
       "    <tr>\n",
       "      <th>D19_VERSAND_OFFLINE_DATUM</th>\n",
       "      <td>0</td>\n",
       "      <td>0.000000</td>\n",
       "    </tr>\n",
       "    <tr>\n",
       "      <th>D19_VERSAND_ONLINE_DATUM</th>\n",
       "      <td>0</td>\n",
       "      <td>0.000000</td>\n",
       "    </tr>\n",
       "    <tr>\n",
       "      <th>ALTERSKATEGORIE_GROB</th>\n",
       "      <td>0</td>\n",
       "      <td>0.000000</td>\n",
       "    </tr>\n",
       "  </tbody>\n",
       "</table>\n",
       "<p>366 rows × 2 columns</p>\n",
       "</div>"
      ],
      "text/plain": [
       "                           NaN sum      NaN %\n",
       "ALTER_KIND4                 890016  99.864792\n",
       "ALTER_KIND3                 885051  99.307691\n",
       "ALTER_KIND2                 861722  96.690047\n",
       "ALTER_KIND1                 810163  90.904837\n",
       "EXTSEL992                   654153  73.399639\n",
       "...                            ...        ...\n",
       "D19_VERSAND_ANZ_24               0   0.000000\n",
       "D19_VERSAND_DATUM                0   0.000000\n",
       "D19_VERSAND_OFFLINE_DATUM        0   0.000000\n",
       "D19_VERSAND_ONLINE_DATUM         0   0.000000\n",
       "ALTERSKATEGORIE_GROB             0   0.000000\n",
       "\n",
       "[366 rows x 2 columns]"
      ]
     },
     "execution_count": 18,
     "metadata": {},
     "output_type": "execute_result"
    }
   ],
   "source": [
    "# Unknowns in this dataset can take on more than just a NaN value, details have been provided in teh spreadsheets about the factors.\n",
    "# Collate the unknowns. Lets process Azdias first.\n",
    "\n",
    "azdias = Cleaning_functions.collate_unknown(azdias)\n",
    "NaN_sum = Cleaning_functions.display_NaN(azdias) \n",
    "NaN_sum"
   ]
  },
  {
   "cell_type": "markdown",
   "metadata": {},
   "source": [
    "Drop columns with very high NaNs, looking through the spreadsheets and from checking NaNs in the mailout sets these a few other factors than need to be dropped first.   "
   ]
  },
  {
   "cell_type": "code",
   "execution_count": 19,
   "metadata": {},
   "outputs": [],
   "source": [
    "cols_to_drop = ['D19_LETZTER_KAUF_BRANCHE', 'EINGEFUEGT_AM', 'OST_WEST_KZ', 'ALTER_KIND4', 'ALTER_KIND3', 'ALTER_KIND2', 'ALTER_KIND1', 'EXTSEL992', 'KK_KUNDENTYP', 'HH_DELTA_FLAG', 'W_KEIT_KIND_HH']\n",
    "azdias = Cleaning_functions.column_dropper(azdias, cols_to_drop)"
   ]
  },
  {
   "cell_type": "code",
   "execution_count": 20,
   "metadata": {},
   "outputs": [
    {
     "data": {
      "text/html": [
       "<div>\n",
       "<style scoped>\n",
       "    .dataframe tbody tr th:only-of-type {\n",
       "        vertical-align: middle;\n",
       "    }\n",
       "\n",
       "    .dataframe tbody tr th {\n",
       "        vertical-align: top;\n",
       "    }\n",
       "\n",
       "    .dataframe thead th {\n",
       "        text-align: right;\n",
       "    }\n",
       "</style>\n",
       "<table border=\"1\" class=\"dataframe\">\n",
       "  <thead>\n",
       "    <tr style=\"text-align: right;\">\n",
       "      <th></th>\n",
       "      <th>NaN sum</th>\n",
       "      <th>NaN %</th>\n",
       "    </tr>\n",
       "  </thead>\n",
       "  <tbody>\n",
       "    <tr>\n",
       "      <th>ALTERSKATEGORIE_FEIN</th>\n",
       "      <td>262947</td>\n",
       "      <td>29.504130</td>\n",
       "    </tr>\n",
       "    <tr>\n",
       "      <th>D19_BANKEN_ONLINE_QUOTE_12</th>\n",
       "      <td>257113</td>\n",
       "      <td>28.849522</td>\n",
       "    </tr>\n",
       "    <tr>\n",
       "      <th>D19_SOZIALES</th>\n",
       "      <td>257113</td>\n",
       "      <td>28.849522</td>\n",
       "    </tr>\n",
       "    <tr>\n",
       "      <th>D19_VERSI_ONLINE_QUOTE_12</th>\n",
       "      <td>257113</td>\n",
       "      <td>28.849522</td>\n",
       "    </tr>\n",
       "    <tr>\n",
       "      <th>D19_TELKO_ONLINE_QUOTE_12</th>\n",
       "      <td>257113</td>\n",
       "      <td>28.849522</td>\n",
       "    </tr>\n",
       "    <tr>\n",
       "      <th>...</th>\n",
       "      <td>...</td>\n",
       "      <td>...</td>\n",
       "    </tr>\n",
       "    <tr>\n",
       "      <th>D19_VERSAND_ANZ_24</th>\n",
       "      <td>0</td>\n",
       "      <td>0.000000</td>\n",
       "    </tr>\n",
       "    <tr>\n",
       "      <th>D19_VERSAND_DATUM</th>\n",
       "      <td>0</td>\n",
       "      <td>0.000000</td>\n",
       "    </tr>\n",
       "    <tr>\n",
       "      <th>D19_VERSAND_OFFLINE_DATUM</th>\n",
       "      <td>0</td>\n",
       "      <td>0.000000</td>\n",
       "    </tr>\n",
       "    <tr>\n",
       "      <th>D19_VERSAND_ONLINE_DATUM</th>\n",
       "      <td>0</td>\n",
       "      <td>0.000000</td>\n",
       "    </tr>\n",
       "    <tr>\n",
       "      <th>ALTERSKATEGORIE_GROB</th>\n",
       "      <td>0</td>\n",
       "      <td>0.000000</td>\n",
       "    </tr>\n",
       "  </tbody>\n",
       "</table>\n",
       "<p>355 rows × 2 columns</p>\n",
       "</div>"
      ],
      "text/plain": [
       "                            NaN sum      NaN %\n",
       "ALTERSKATEGORIE_FEIN         262947  29.504130\n",
       "D19_BANKEN_ONLINE_QUOTE_12   257113  28.849522\n",
       "D19_SOZIALES                 257113  28.849522\n",
       "D19_VERSI_ONLINE_QUOTE_12    257113  28.849522\n",
       "D19_TELKO_ONLINE_QUOTE_12    257113  28.849522\n",
       "...                             ...        ...\n",
       "D19_VERSAND_ANZ_24                0   0.000000\n",
       "D19_VERSAND_DATUM                 0   0.000000\n",
       "D19_VERSAND_OFFLINE_DATUM         0   0.000000\n",
       "D19_VERSAND_ONLINE_DATUM          0   0.000000\n",
       "ALTERSKATEGORIE_GROB              0   0.000000\n",
       "\n",
       "[355 rows x 2 columns]"
      ]
     },
     "execution_count": 20,
     "metadata": {},
     "output_type": "execute_result"
    }
   ],
   "source": [
    "NaN_sum = Cleaning_functions.display_NaN(azdias)\n",
    "NaN_sum"
   ]
  },
  {
   "cell_type": "code",
   "execution_count": 21,
   "metadata": {},
   "outputs": [
    {
     "data": {
      "text/html": [
       "<div>\n",
       "<style scoped>\n",
       "    .dataframe tbody tr th:only-of-type {\n",
       "        vertical-align: middle;\n",
       "    }\n",
       "\n",
       "    .dataframe tbody tr th {\n",
       "        vertical-align: top;\n",
       "    }\n",
       "\n",
       "    .dataframe thead th {\n",
       "        text-align: right;\n",
       "    }\n",
       "</style>\n",
       "<table border=\"1\" class=\"dataframe\">\n",
       "  <thead>\n",
       "    <tr style=\"text-align: right;\">\n",
       "      <th></th>\n",
       "      <th>NaN sum</th>\n",
       "      <th>NaN %</th>\n",
       "    </tr>\n",
       "  </thead>\n",
       "  <tbody>\n",
       "    <tr>\n",
       "      <th>ALTERSKATEGORIE_FEIN</th>\n",
       "      <td>262947</td>\n",
       "      <td>29.504130</td>\n",
       "    </tr>\n",
       "    <tr>\n",
       "      <th>D19_BANKEN_ONLINE_QUOTE_12</th>\n",
       "      <td>257113</td>\n",
       "      <td>28.849522</td>\n",
       "    </tr>\n",
       "    <tr>\n",
       "      <th>D19_SOZIALES</th>\n",
       "      <td>257113</td>\n",
       "      <td>28.849522</td>\n",
       "    </tr>\n",
       "    <tr>\n",
       "      <th>D19_VERSI_ONLINE_QUOTE_12</th>\n",
       "      <td>257113</td>\n",
       "      <td>28.849522</td>\n",
       "    </tr>\n",
       "    <tr>\n",
       "      <th>D19_TELKO_ONLINE_QUOTE_12</th>\n",
       "      <td>257113</td>\n",
       "      <td>28.849522</td>\n",
       "    </tr>\n",
       "    <tr>\n",
       "      <th>D19_GESAMT_ONLINE_QUOTE_12</th>\n",
       "      <td>257113</td>\n",
       "      <td>28.849522</td>\n",
       "    </tr>\n",
       "    <tr>\n",
       "      <th>D19_KONSUMTYP</th>\n",
       "      <td>257113</td>\n",
       "      <td>28.849522</td>\n",
       "    </tr>\n",
       "    <tr>\n",
       "      <th>D19_LOTTO</th>\n",
       "      <td>257113</td>\n",
       "      <td>28.849522</td>\n",
       "    </tr>\n",
       "    <tr>\n",
       "      <th>D19_VERSAND_ONLINE_QUOTE_12</th>\n",
       "      <td>257113</td>\n",
       "      <td>28.849522</td>\n",
       "    </tr>\n",
       "    <tr>\n",
       "      <th>KBA05_HERST4</th>\n",
       "      <td>133324</td>\n",
       "      <td>14.959701</td>\n",
       "    </tr>\n",
       "  </tbody>\n",
       "</table>\n",
       "</div>"
      ],
      "text/plain": [
       "                             NaN sum      NaN %\n",
       "ALTERSKATEGORIE_FEIN          262947  29.504130\n",
       "D19_BANKEN_ONLINE_QUOTE_12    257113  28.849522\n",
       "D19_SOZIALES                  257113  28.849522\n",
       "D19_VERSI_ONLINE_QUOTE_12     257113  28.849522\n",
       "D19_TELKO_ONLINE_QUOTE_12     257113  28.849522\n",
       "D19_GESAMT_ONLINE_QUOTE_12    257113  28.849522\n",
       "D19_KONSUMTYP                 257113  28.849522\n",
       "D19_LOTTO                     257113  28.849522\n",
       "D19_VERSAND_ONLINE_QUOTE_12   257113  28.849522\n",
       "KBA05_HERST4                  133324  14.959701"
      ]
     },
     "execution_count": 21,
     "metadata": {},
     "output_type": "execute_result"
    }
   ],
   "source": [
    "azdias_mapped = Cleaning_functions.row_dropper(azdias, 'D19_BANKEN_ONLINE_QUOTE_12')\n",
    "NaN_sum = Cleaning_functions.display_NaN(azdias)\n",
    "NaN_sum.head(10)"
   ]
  },
  {
   "cell_type": "code",
   "execution_count": 22,
   "metadata": {},
   "outputs": [
    {
     "data": {
      "text/plain": [
       "<Figure size 1152x288 with 0 Axes>"
      ]
     },
     "metadata": {},
     "output_type": "display_data"
    }
   ],
   "source": [
    "fig_1 = Cleaning_functions.test_impute_plot('ALTERSKATEGORIE_FEIN', azdias)\n",
    "# df_test = Cleaning_functions.test_impute('ALTERSKATEGORIE_FEIN', azdias)"
   ]
  },
  {
   "cell_type": "code",
   "execution_count": 23,
   "metadata": {},
   "outputs": [
    {
     "data": {
      "text/plain": [
       "<Figure size 1152x288 with 0 Axes>"
      ]
     },
     "metadata": {},
     "output_type": "display_data"
    }
   ],
   "source": [
    "fig_2 = Cleaning_functions.test_impute_plot('KBA05_SEG8', azdias)"
   ]
  },
  {
   "cell_type": "markdown",
   "metadata": {},
   "source": [
    "need to fix how they are saving -resolution look slow and it's cutting off labels\n",
    "but results is impure the mode"
   ]
  },
  {
   "cell_type": "code",
   "execution_count": 24,
   "metadata": {},
   "outputs": [],
   "source": [
    "azdias_imputed = Cleaning_functions.impute_all_cols(azdias_mapped, 'most_frequent')"
   ]
  },
  {
   "cell_type": "markdown",
   "metadata": {},
   "source": [
    "dealing with CAMEO_DEU_unique as a categorical feature"
   ]
  },
  {
   "cell_type": "code",
   "execution_count": 25,
   "metadata": {},
   "outputs": [],
   "source": [
    "CAMEO_DEU_unique = azdias_imputed.CAMEO_DEU_2015.unique()\n",
    "CAMEO_DEU_unique = sorted(CAMEO_DEU_unique)\n",
    "CAMEO_DEU_labels = ['Work_Life_Balance', 'Wealthy_Best_Ager', 'Successful-Songwriter', 'Old_Nobility', 'City_Nobility', 'Cottage_Chic', 'Noble_Jogger', 'Established_gourmet', 'Fine_Management', 'Career_Family', \n",
    "'Powershaopping_Families', 'Rural_Neighborhood', 'Secure_Retirement', 'Family_Starter', 'Family_life', 'String_Trimmer', 'Empty_Nest', 'Golden_Ager', 'Younger_Employees', 'Suddenly_family',\n",
    "'Family_First', 'Stock_Market_Junkies', 'Coffee_Rider', 'Active_Retirement', 'Jobstarter', 'Petty_Bourgeois', 'Long_Established', 'Sportgardener', 'Urban_Parents', 'Frugal_Aging', 'Journeymen',\n",
    "'Mantaplatte', 'Factory_Worker', 'Rear_Window', 'Interested_Retirees', 'Multi_culteral', 'Young_Mobile', 'Prefab', 'Town_Seniours', 'First_Shared_Apartment', 'Tempory_Workers', 'Afternoon_Talk_Show',\n",
    "'Mini_jobber', 'Socking_Away']\n",
    "azdias_imputed.CAMEO_DEU_2015 = azdias_imputed.CAMEO_DEU_2015.replace(CAMEO_DEU_unique, CAMEO_DEU_labels)"
   ]
  },
  {
   "cell_type": "code",
   "execution_count": 26,
   "metadata": {},
   "outputs": [],
   "source": [
    "categorical_cols = ['CAMEO_DEU_2015']\n",
    "azdias_clean = Cleaning_functions.encode_cat(azdias_imputed, categorical_cols)"
   ]
  },
  {
   "cell_type": "code",
   "execution_count": 27,
   "metadata": {},
   "outputs": [],
   "source": [
    "# azdias_clean.to_csv('data/azdais_clean.csv')"
   ]
  },
  {
   "cell_type": "markdown",
   "metadata": {},
   "source": [
    " bring in the customers and check for different columns"
   ]
  },
  {
   "cell_type": "code",
   "execution_count": 31,
   "metadata": {},
   "outputs": [],
   "source": [
    "\n",
    "customers = Cleaning_functions.collate_unknown(customers)\n",
    "cols_to_drop = ['PRODUCT_GROUP', 'CUSTOMER_GROUP', 'ONLINE_PURCHASE', 'D19_LETZTER_KAUF_BRANCHE', 'EINGEFUEGT_AM', 'OST_WEST_KZ', 'ALTER_KIND4', 'ALTER_KIND3', 'ALTER_KIND2', 'ALTER_KIND1', 'EXTSEL992', 'KK_KUNDENTYP', 'HH_DELTA_FLAG', 'W_KEIT_KIND_HH']\n",
    "customers = Cleaning_functions.column_dropper(customers, cols_to_drop)\n",
    "customers = Cleaning_functions.row_dropper(customers, 'D19_BANKEN_ONLINE_QUOTE_12')\n",
    "customers_imputed = Cleaning_functions.impute_all_cols(customers, 'most_frequent')\n"
   ]
  },
  {
   "cell_type": "code",
   "execution_count": 32,
   "metadata": {},
   "outputs": [],
   "source": [
    "CAMEO_DEU_unique = customers_imputed.CAMEO_DEU_2015.unique()\n",
    "CAMEO_DEU_unique = sorted(CAMEO_DEU_unique)\n",
    "CAMEO_DEU_labels = ['Work_Life_Balance', 'Wealthy_Best_Ager', 'Successful-Songwriter', 'Old_Nobility', 'City_Nobility', 'Cottage_Chic', 'Noble_Jogger', 'Established_gourmet', 'Fine_Management', 'Career_Family', \n",
    "'Powershaopping_Families', 'Rural_Neighborhood', 'Secure_Retirement', 'Family_Starter', 'Family_life', 'String_Trimmer', 'Empty_Nest', 'Golden_Ager', 'Younger_Employees', 'Suddenly_family',\n",
    "'Family_First', 'Stock_Market_Junkies', 'Coffee_Rider', 'Active_Retirement', 'Jobstarter', 'Petty_Bourgeois', 'Long_Established', 'Sportgardener', 'Urban_Parents', 'Frugal_Aging', 'Journeymen',\n",
    "'Mantaplatte', 'Factory_Worker', 'Rear_Window', 'Interested_Retirees', 'Multi_culteral', 'Young_Mobile', 'Prefab', 'Town_Seniours', 'First_Shared_Apartment', 'Tempory_Workers', 'Afternoon_Talk_Show',\n",
    "'Mini_jobber', 'Socking_Away']\n",
    "customers_imputed.CAMEO_DEU_2015 = customers_imputed.CAMEO_DEU_2015.replace(CAMEO_DEU_unique, CAMEO_DEU_labels)"
   ]
  },
  {
   "cell_type": "code",
   "execution_count": 33,
   "metadata": {},
   "outputs": [],
   "source": [
    "categorical_cols = ['CAMEO_DEU_2015']\n",
    "customers_clean = Cleaning_functions.encode_cat(customers_imputed, categorical_cols)"
   ]
  },
  {
   "cell_type": "code",
   "execution_count": 34,
   "metadata": {},
   "outputs": [
    {
     "data": {
      "text/plain": [
       "[[], []]"
      ]
     },
     "execution_count": 34,
     "metadata": {},
     "output_type": "execute_result"
    }
   ],
   "source": [
    "Cleaning_functions.returnNotMatches(azdias_clean,customers_clean)"
   ]
  },
  {
   "cell_type": "code",
   "execution_count": null,
   "metadata": {},
   "outputs": [],
   "source": [
    "# customers_clean.to_csv('data/customers_clean.csv')"
   ]
  },
  {
   "cell_type": "markdown",
   "metadata": {},
   "source": [
    "same process was run for the mailout test and train datasets. "
   ]
  }
 ],
 "metadata": {
  "kernelspec": {
   "display_name": "Python 3.10.4 64-bit",
   "language": "python",
   "name": "python3"
  },
  "language_info": {
   "codemirror_mode": {
    "name": "ipython",
    "version": 3
   },
   "file_extension": ".py",
   "mimetype": "text/x-python",
   "name": "python",
   "nbconvert_exporter": "python",
   "pygments_lexer": "ipython3",
   "version": "3.10.4"
  },
  "orig_nbformat": 4,
  "vscode": {
   "interpreter": {
    "hash": "b681030e630a14bb10dd041dbf7395aa296cf42f5dce9d31bae9e4d0d30cfd9b"
   }
  }
 },
 "nbformat": 4,
 "nbformat_minor": 2
}
